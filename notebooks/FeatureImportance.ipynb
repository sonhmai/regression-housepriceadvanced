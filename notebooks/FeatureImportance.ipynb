{
 "cells": [
  {
   "cell_type": "markdown",
   "metadata": {},
   "source": [
    "### Explore how good feature selection affect RMSE of log(price)"
   ]
  },
  {
   "cell_type": "code",
   "execution_count": 117,
   "metadata": {},
   "outputs": [],
   "source": [
    "import pandas as pd\n",
    "import matplotlib.pyplot as plt\n",
    "import seaborn as sns\n",
    "from xgboost import XGBRegressor\n",
    "import xgboost\n",
    "from sklearn.model_selection import train_test_split, GridSearchCV\n",
    "from sklearn.metrics import mean_squared_error\n",
    "import numpy as np\n",
    "import category_encoders as ce\n",
    "import pandas as pd\n",
    "import subprocess\n",
    "import pprint as pp\n",
    "import warnings\n",
    "from sklearn.pipeline import Pipeline\n",
    "from sklearn.base import TransformerMixin\n",
    "import sklearn\n",
    "\n",
    "%matplotlib inline\n",
    "PATH='../data/'\n"
   ]
  },
  {
   "cell_type": "code",
   "execution_count": 109,
   "metadata": {},
   "outputs": [],
   "source": [
    "class RemovingFeatures(TransformerMixin):\n",
    "    \"\"\"\n",
    "    removing feature missing to many values\n",
    "    \"\"\"\n",
    "    def __init__(self, cols_removing):\n",
    "        self.cols_removing = cols_removing\n",
    "\n",
    "    def fit(self, X, y=None):\n",
    "        return self\n",
    "\n",
    "    def transform(self, X):\n",
    "        return X.drop(self.cols_removing, axis=1)\n",
    "\n",
    "\n",
    "class PoolQCTransformer(TransformerMixin):\n",
    "    \"\"\"\n",
    "    transform PoolQC column\n",
    "    \"\"\"\n",
    "\n",
    "    def fit(self, X, y=None):\n",
    "        return self\n",
    "\n",
    "    def transform(self, X):\n",
    "        map_poolqc = {\"PoolQC\": {\"Ex\": 3, \"Gd\": 2, \"Fa\": 1, np.nan: 0}}\n",
    "        return X.replace(map_poolqc)\n",
    "\n",
    "\n",
    "class PoolAreaTransformer(TransformerMixin):\n",
    "    \"\"\"\n",
    "    replace nan in PoolArea with 0\n",
    "    \"\"\"\n",
    "    def fit(self, X, y=None):\n",
    "        return self\n",
    "\n",
    "    def transform(self, X):\n",
    "        values = {\"PoolArea\": 0}\n",
    "        return X.fillna(value=values)\n",
    "\n",
    "\n",
    "class GrLivAreaTransformer(TransformerMixin):\n",
    "    \"\"\"\n",
    "    perform log transformation of GrLivArea col because it is right-skewed in\n",
    "    both train and test set\n",
    "    \"\"\"\n",
    "    def fit(self, X, y=None):\n",
    "        return self\n",
    "\n",
    "    def transform(self, X):\n",
    "        X['GrLivArea'] = np.log1p(X['GrLivArea'])  # log1p(x) more accurate for small x\n",
    "        return X\n",
    "\n",
    "\n",
    "class MSSubClassTransformer(TransformerMixin):\n",
    "    \"\"\"\n",
    "    one-hot encoded this feature because it is categorical\n",
    "    instead of recognize it as an int feature\n",
    "    \"\"\"\n",
    "\n",
    "    def fit(self, X, y=None):\n",
    "        return self\n",
    "\n",
    "    def transform(self, X):\n",
    "        col = 'MSSubClass'\n",
    "        dummy = pd.get_dummies(X[col], prefix=col)\n",
    "        drop_col = X.drop(col, axis=1)\n",
    "        df = pd.concat([dummy, drop_col], axis=1)\n",
    "        return df\n",
    "\n",
    "\n",
    "class RemodAfterAdding(TransformerMixin):\n",
    "    \"\"\"\n",
    "    add column RemodAfter = YearRemodAdd - YearBuilt\n",
    "    YearBuilt and YearRemodAdd has no missing values\n",
    "    \"\"\"\n",
    "    def fit(self, X, y=None):\n",
    "        return self\n",
    "\n",
    "    def transform(self, X):\n",
    "        X['RemodAfter'] = X['YearRemodAdd'] - X['YearBuilt']\n",
    "        return X\n",
    "    \n",
    "class GarageTransformer(TransformerMixin):\n",
    "    def fit(self, X, y=None):\n",
    "        return self\n",
    "\n",
    "    def transform(self, X):\n",
    "        \"\"\"\n",
    "        impute num features with 0\n",
    "        impute categorical features with NA\n",
    "        \"\"\"\n",
    "        num_cols = ['GarageYrBlt', 'GarageCars', 'GarageArea']\n",
    "        cat_cols = ['GarageType', 'GarageFinish', 'GarageQual', 'GarageCond']\n",
    "        X[num_cols] = (X[num_cols]).fillna(0)\n",
    "        X[cat_cols] = (X[cat_cols]).fillna('NA')\n",
    "        return X\n",
    "    \n",
    "class LotFrontageTransformer(TransformerMixin):\n",
    "    \"\"\"\n",
    "    replace nan in PoolArea with 0\n",
    "    \"\"\"\n",
    "    def fit(self, X, y=None):\n",
    "        return self\n",
    "\n",
    "    def transform(self, X):\n",
    "        values = {\"LotFrontage\": 0}\n",
    "        return X.fillna(value=values)\n",
    "    \n",
    "class MasVnrTransformer(TransformerMixin):\n",
    "    \"\"\"\n",
    "    replace nan in PoolArea with 0\n",
    "    \"\"\"\n",
    "    def fit(self, X, y=None):\n",
    "        return self\n",
    "\n",
    "    def transform(self, X):\n",
    "        values = {\"MasVnrArea\": 0.0, \"MasVnrType\": 'None'}\n",
    "        return X.fillna(value=values)\n",
    "    \n",
    "class ElectricalTransformer(TransformerMixin):\n",
    "    \"\"\"\n",
    "    replace nan in PoolArea with 0\n",
    "    \"\"\"\n",
    "    def fit(self, X, y=None):\n",
    "        return self\n",
    "\n",
    "    def transform(self, X):\n",
    "        values = {'Electrical': 'SBrkr'}\n",
    "        return X.fillna(value=values)\n",
    "    \n",
    "class BasementTransformer(TransformerMixin):\n",
    "    \"\"\"\n",
    "    replace nan in PoolArea with 0\n",
    "    \"\"\"\n",
    "    def fit(self, X, y=None):\n",
    "        return self\n",
    "\n",
    "    def transform(self, X):\n",
    "        values = {\n",
    "            'BsmtQual': 'NA',\n",
    "            'BsmtCond': 'NA',\n",
    "            'BsmtExposure': 'NA',\n",
    "            'BsmtFinType1': 'NA',\n",
    "            'BsmtFinType2': 'NA',\n",
    "        }\n",
    "        return X.fillna(value=values)"
   ]
  },
  {
   "cell_type": "code",
   "execution_count": 49,
   "metadata": {},
   "outputs": [],
   "source": [
    "train = pd.read_csv(PATH + 'train.csv')\n",
    "test = pd.read_csv(PATH + 'test.csv')"
   ]
  },
  {
   "cell_type": "code",
   "execution_count": 140,
   "metadata": {},
   "outputs": [
    {
     "name": "stdout",
     "output_type": "stream",
     "text": [
      "X_train (1005, 80)\n",
      "validation RMSE: 0.12104290157593357\n",
      "number of features in feature_importances_\n",
      "274\n"
     ]
    }
   ],
   "source": [
    "from sklearn.impute import SimpleImputer\n",
    "from sklearn.preprocessing import StandardScaler\n",
    "from scipy import stats\n",
    "\n",
    "def get_train_val(train):\n",
    "    X = train.iloc[:, 0:-1]\n",
    "    y = train.iloc[:, -1]  # label SalePrice, last column\n",
    "    return train_test_split(X, y, test_size=0.3, random_state=42)\n",
    "\n",
    "def run_baseline_pool(train, test, encoder):\n",
    "    cols_removing = ['Id', 'Alley', 'MiscFeature', 'Fence', 'FireplaceQu']\n",
    "    pipe = Pipeline([\n",
    "        ('dropping', RemovingFeatures(cols_removing)),\n",
    "        ('PoolQC', PoolQCTransformer()),\n",
    "        ('PoolArea', PoolAreaTransformer()),\n",
    "        ('GrLivArea', GrLivAreaTransformer()),\n",
    "        ('garage features', GarageTransformer()),\n",
    "        ('impute LotFrontage 0', LotFrontageTransformer()),\n",
    "        ('impute MasVnr type and area', MasVnrTransformer()),\n",
    "        ('impute Electrical - most frequent', ElectricalTransformer()),\n",
    "        ('impute basement features', BasementTransformer()),\n",
    "        ('encoder', encoder),\n",
    "#         ('scaler', StandardScaler()),\n",
    "        ('reg', XGBRegressor(),\n",
    "    ])\n",
    "    # remove outliers\n",
    "    filter_not_outlier = np.abs(stats.zscore(train['GrLivArea'])) < 2.5\n",
    "    train = train[filter_not_outlier]\n",
    "\n",
    "    X_train, X_val, y_train, y_val = get_train_val(train)\n",
    "    print('X_train', X_train.shape)\n",
    "    \n",
    "    pipe.fit(X=X_train, y=y_train)\n",
    "    val_pred = pipe.predict(X_val)\n",
    "    mse = mean_squared_error(np.log(y_val), np.log(val_pred))\n",
    "    rmse = np.sqrt(mse)\n",
    "    print(\"validation RMSE:\", rmse)\n",
    "    return pipe\n",
    "\n",
    "warnings.filterwarnings('ignore')\n",
    "encoder_sklearn = sklearn.preprocessing.OneHotEncoder(handle_unknown='ignore')\n",
    "encoder_ce = ce.OneHotEncoder(handle_unknown='ignore')\n",
    "pipe = run_baseline_pool(train, test, encoder_ce)\n",
    "regtuple = pipe.steps[-1] # the last step in pipe is tuple ('name', model)\n",
    "model = regtuple[1] # 2nd element in the tuple is the model\n",
    "print(\"number of features in feature_importances_\")\n",
    "print(len(model.feature_importances_))"
   ]
  },
  {
   "cell_type": "code",
   "execution_count": 7,
   "metadata": {},
   "outputs": [
    {
     "data": {
      "text/plain": [
       "<matplotlib.axes._subplots.AxesSubplot at 0x29235c91208>"
      ]
     },
     "execution_count": 7,
     "metadata": {},
     "output_type": "execute_result"
    },
    {
     "data": {
      "image/png": "[encoded data removed]",
      "text/plain": [
       "<Figure size 432x288 with 1 Axes>"
      ]
     },
     "metadata": {
      "needs_background": "light"
     },
     "output_type": "display_data"
    }
   ],
   "source": [
    "from xgboost import plot_importance\n",
    "\n",
    "plot_importance(model, max_num_features=20)"
   ]
  },
  {
   "cell_type": "code",
   "execution_count": null,
   "metadata": {},
   "outputs": [],
   "source": [
    "# feature names\n"
   ]
  },
  {
   "cell_type": "code",
   "execution_count": 76,
   "metadata": {},
   "outputs": [
    {
     "name": "stdout",
     "output_type": "stream",
     "text": [
      "number of features before one-hot-encoding\n",
      "75\n",
      "number of features after one-hot-encoding\n",
      "(1022, 266)\n",
      "number of cat cols transformed by OneHotEncoder\n",
      "38\n",
      "number of elements in feature_importances_ 266\n"
     ]
    }
   ],
   "source": [
    "# num features\n",
    "cols_removing = ['Id', 'Alley', 'MiscFeature', 'Fence', 'FireplaceQu']\n",
    "pipe = Pipeline([\n",
    "    ('dropping', RemovingFeatures(cols_removing)),\n",
    "    ('PoolQC', PoolQCTransformer()),\n",
    "    ('PoolArea', PoolAreaTransformer()),\n",
    "    ('GrLivArea', GrLivAreaTransformer()),\n",
    "])\n",
    "X_train, X_val, y_train, y_val = get_train_val(train)\n",
    "transformed = pipe.fit_transform(X_train)\n",
    "print(\"number of features before one-hot-encoding\")\n",
    "print(len(transformed.columns))\n",
    "num_features = transformed.columns\n",
    "\n",
    "# cat features - number of features after onehotencoding\n",
    "enc = ce.OneHotEncoder(handle_unknown='ignore')\n",
    "pipe = Pipeline([\n",
    "    ('dropping', RemovingFeatures(cols_removing)),\n",
    "    ('PoolQC', PoolQCTransformer()),\n",
    "    ('PoolArea', PoolAreaTransformer()),\n",
    "    ('GrLivArea', GrLivAreaTransformer()),\n",
    "    ('imputer', SimpleImputer(strategy='most_frequent')),\n",
    "    ('encoder', enc),\n",
    "    ('scaler', StandardScaler())\n",
    "])\n",
    "X_train, X_val, y_train, y_val = get_train_val(train)\n",
    "transformed = pipe.fit_transform(X_train)\n",
    "print(\"number of features after one-hot-encoding\")\n",
    "print(transformed.shape)\n",
    "print(\"number of cat cols transformed by OneHotEncoder\")\n",
    "print(len(enc.cols))\n",
    "\n",
    "model = XGBRegressor()\n",
    "model.fit(transformed, y_train)\n",
    "print(\"number of elements in feature_importances_\", len(model.feature_importances_))"
   ]
  },
  {
   "cell_type": "code",
   "execution_count": 80,
   "metadata": {},
   "outputs": [
    {
     "data": {
      "text/plain": [
       "[{'col': 1,\n",
       "  'mapping': [('RL', 1), ('RM', 2), ('FV', 3), ('C (all)', 4), ('RH', 5)]},\n",
       " {'col': 4, 'mapping': [('Pave', 1), ('Grvl', 2)]},\n",
       " {'col': 5, 'mapping': [('Reg', 1), ('IR1', 2), ('IR2', 3), ('IR3', 4)]},\n",
       " {'col': 6, 'mapping': [('Lvl', 1), ('HLS', 2), ('Bnk', 3), ('Low', 4)]},\n",
       " {'col': 7, 'mapping': [('AllPub', 1), ('NoSeWa', 2)]},\n",
       " {'col': 8,\n",
       "  'mapping': [('Inside', 1),\n",
       "   ('Corner', 2),\n",
       "   ('CulDSac', 3),\n",
       "   ('FR2', 4),\n",
       "   ('FR3', 5)]},\n",
       " {'col': 9, 'mapping': [('Gtl', 1), ('Mod', 2), ('Sev', 3)]},\n",
       " {'col': 10,\n",
       "  'mapping': [('NWAmes', 1),\n",
       "   ('Edwards', 2),\n",
       "   ('Somerst', 3),\n",
       "   ('CollgCr', 4),\n",
       "   ('NAmes', 5),\n",
       "   ('SawyerW', 6),\n",
       "   ('Sawyer', 7),\n",
       "   ('Gilbert', 8),\n",
       "   ('OldTown', 9),\n",
       "   ('BrkSide', 10),\n",
       "   ('SWISU', 11),\n",
       "   ('ClearCr', 12),\n",
       "   ('StoneBr', 13),\n",
       "   ('Crawfor', 14),\n",
       "   ('Mitchel', 15),\n",
       "   ('NoRidge', 16),\n",
       "   ('Blmngtn', 17),\n",
       "   ('Veenker', 18),\n",
       "   ('Timber', 19),\n",
       "   ('IDOTRR', 20),\n",
       "   ('NridgHt', 21),\n",
       "   ('BrDale', 22),\n",
       "   ('MeadowV', 23),\n",
       "   ('NPkVill', 24),\n",
       "   ('Blueste', 25)]},\n",
       " {'col': 11,\n",
       "  'mapping': [('Norm', 1),\n",
       "   ('RRNn', 2),\n",
       "   ('PosN', 3),\n",
       "   ('Feedr', 4),\n",
       "   ('PosA', 5),\n",
       "   ('Artery', 6),\n",
       "   ('RRAn', 7),\n",
       "   ('RRAe', 8),\n",
       "   ('RRNe', 9)]},\n",
       " {'col': 12,\n",
       "  'mapping': [('Norm', 1),\n",
       "   ('Feedr', 2),\n",
       "   ('RRAe', 3),\n",
       "   ('PosN', 4),\n",
       "   ('Artery', 5),\n",
       "   ('RRAn', 6)]},\n",
       " {'col': 13,\n",
       "  'mapping': [('1Fam', 1),\n",
       "   ('TwnhsE', 2),\n",
       "   ('Duplex', 3),\n",
       "   ('2fmCon', 4),\n",
       "   ('Twnhs', 5)]},\n",
       " {'col': 14,\n",
       "  'mapping': [('1Story', 1),\n",
       "   ('SLvl', 2),\n",
       "   ('2Story', 3),\n",
       "   ('1.5Fin', 4),\n",
       "   ('2.5Fin', 5),\n",
       "   ('SFoyer', 6),\n",
       "   ('1.5Unf', 7),\n",
       "   ('2.5Unf', 8)]},\n",
       " {'col': 19,\n",
       "  'mapping': [('Hip', 1),\n",
       "   ('Gable', 2),\n",
       "   ('Gambrel', 3),\n",
       "   ('Mansard', 4),\n",
       "   ('Flat', 5),\n",
       "   ('Shed', 6)]},\n",
       " {'col': 20,\n",
       "  'mapping': [('CompShg', 1),\n",
       "   ('WdShngl', 2),\n",
       "   ('WdShake', 3),\n",
       "   ('Metal', 4),\n",
       "   ('Tar&Grv', 5),\n",
       "   ('ClyTile', 6),\n",
       "   ('Roll', 7)]},\n",
       " {'col': 21,\n",
       "  'mapping': [('Plywood', 1),\n",
       "   ('VinylSd', 2),\n",
       "   ('Wd Sdng', 3),\n",
       "   ('MetalSd', 4),\n",
       "   ('HdBoard', 5),\n",
       "   ('BrkFace', 6),\n",
       "   ('WdShing', 7),\n",
       "   ('BrkComm', 8),\n",
       "   ('CemntBd', 9),\n",
       "   ('Stucco', 10),\n",
       "   ('AsbShng', 11),\n",
       "   ('CBlock', 12),\n",
       "   ('AsphShn', 13),\n",
       "   ('Stone', 14)]},\n",
       " {'col': 22,\n",
       "  'mapping': [('Plywood', 1),\n",
       "   ('VinylSd', 2),\n",
       "   ('ImStucc', 3),\n",
       "   ('Wd Sdng', 4),\n",
       "   ('MetalSd', 5),\n",
       "   ('HdBoard', 6),\n",
       "   ('BrkFace', 7),\n",
       "   ('Stucco', 8),\n",
       "   ('Brk Cmn', 9),\n",
       "   ('Wd Shng', 10),\n",
       "   ('CmentBd', 11),\n",
       "   ('AsbShng', 12),\n",
       "   ('Stone', 13),\n",
       "   ('Other', 14),\n",
       "   ('CBlock', 15),\n",
       "   ('AsphShn', 16)]},\n",
       " {'col': 23,\n",
       "  'mapping': [('BrkFace', 1), ('None', 2), ('Stone', 3), ('BrkCmn', 4)]},\n",
       " {'col': 25, 'mapping': [('TA', 1), ('Ex', 2), ('Gd', 3), ('Fa', 4)]},\n",
       " {'col': 26,\n",
       "  'mapping': [('TA', 1), ('Gd', 2), ('Fa', 3), ('Po', 4), ('Ex', 5)]},\n",
       " {'col': 27,\n",
       "  'mapping': [('PConc', 1),\n",
       "   ('CBlock', 2),\n",
       "   ('BrkTil', 3),\n",
       "   ('Slab', 4),\n",
       "   ('Wood', 5),\n",
       "   ('Stone', 6)]},\n",
       " {'col': 28, 'mapping': [('TA', 1), ('Gd', 2), ('Ex', 3), ('Fa', 4)]},\n",
       " {'col': 29, 'mapping': [('TA', 1), ('Gd', 2), ('Fa', 3), ('Po', 4)]},\n",
       " {'col': 30, 'mapping': [('No', 1), ('Gd', 2), ('Mn', 3), ('Av', 4)]},\n",
       " {'col': 31,\n",
       "  'mapping': [('Unf', 1),\n",
       "   ('GLQ', 2),\n",
       "   ('ALQ', 3),\n",
       "   ('Rec', 4),\n",
       "   ('BLQ', 5),\n",
       "   ('LwQ', 6)]},\n",
       " {'col': 33,\n",
       "  'mapping': [('Unf', 1),\n",
       "   ('ALQ', 2),\n",
       "   ('Rec', 3),\n",
       "   ('LwQ', 4),\n",
       "   ('BLQ', 5),\n",
       "   ('GLQ', 6)]},\n",
       " {'col': 37,\n",
       "  'mapping': [('GasA', 1),\n",
       "   ('GasW', 2),\n",
       "   ('Grav', 3),\n",
       "   ('OthW', 4),\n",
       "   ('Wall', 5),\n",
       "   ('Floor', 6)]},\n",
       " {'col': 38,\n",
       "  'mapping': [('Gd', 1), ('Ex', 2), ('TA', 3), ('Fa', 4), ('Po', 5)]},\n",
       " {'col': 39, 'mapping': [('Y', 1), ('N', 2)]},\n",
       " {'col': 40,\n",
       "  'mapping': [('SBrkr', 1), ('FuseA', 2), ('FuseF', 3), ('FuseP', 4)]},\n",
       " {'col': 51, 'mapping': [('TA', 1), ('Gd', 2), ('Ex', 3), ('Fa', 4)]},\n",
       " {'col': 53,\n",
       "  'mapping': [('Typ', 1),\n",
       "   ('Min2', 2),\n",
       "   ('Maj2', 3),\n",
       "   ('Mod', 4),\n",
       "   ('Min1', 5),\n",
       "   ('Maj1', 6),\n",
       "   ('Sev', 7)]},\n",
       " {'col': 55,\n",
       "  'mapping': [('Attchd', 1),\n",
       "   ('Basment', 2),\n",
       "   ('BuiltIn', 3),\n",
       "   ('Detchd', 4),\n",
       "   ('CarPort', 5),\n",
       "   ('2Types', 6)]},\n",
       " {'col': 57, 'mapping': [('Unf', 1), ('Fin', 2), ('RFn', 3)]},\n",
       " {'col': 60,\n",
       "  'mapping': [('TA', 1), ('Gd', 2), ('Fa', 3), ('Ex', 4), ('Po', 5)]},\n",
       " {'col': 61,\n",
       "  'mapping': [('TA', 1), ('Fa', 2), ('Po', 3), ('Gd', 4), ('Ex', 5)]},\n",
       " {'col': 62, 'mapping': [('Y', 1), ('N', 2), ('P', 3)]},\n",
       " {'col': 73,\n",
       "  'mapping': [('WD', 1),\n",
       "   ('Con', 2),\n",
       "   ('ConLw', 3),\n",
       "   ('New', 4),\n",
       "   ('COD', 5),\n",
       "   ('ConLD', 6),\n",
       "   ('CWD', 7),\n",
       "   ('Oth', 8),\n",
       "   ('ConLI', 9)]},\n",
       " {'col': 74,\n",
       "  'mapping': [('Normal', 1),\n",
       "   ('Partial', 2),\n",
       "   ('Abnorml', 3),\n",
       "   ('Family', 4),\n",
       "   ('AdjLand', 5),\n",
       "   ('Alloca', 6)]}]"
      ]
     },
     "execution_count": 80,
     "metadata": {},
     "output_type": "execute_result"
    }
   ],
   "source": [
    "enc.category_mapping"
   ]
  },
  {
   "cell_type": "code",
   "execution_count": 83,
   "metadata": {
    "collapsed": true
   },
   "outputs": [
    {
     "ename": "ValueError",
     "evalue": "Cannot center sparse matrices: pass `with_mean=False` instead. See docstring for motivation and alternatives.",
     "output_type": "error",
     "traceback": [
      "\u001b[1;31m---------------------------------------------------------------------------\u001b[0m",
      "\u001b[1;31mValueError\u001b[0m                                Traceback (most recent call last)",
      "\u001b[1;32m<ipython-input-83-e72363b9284d>\u001b[0m in \u001b[0;36m<module>\u001b[1;34m\u001b[0m\n\u001b[0;32m     12\u001b[0m ])\n\u001b[0;32m     13\u001b[0m \u001b[0mX_train\u001b[0m\u001b[1;33m,\u001b[0m \u001b[0mX_val\u001b[0m\u001b[1;33m,\u001b[0m \u001b[0my_train\u001b[0m\u001b[1;33m,\u001b[0m \u001b[0my_val\u001b[0m \u001b[1;33m=\u001b[0m \u001b[0mget_train_val\u001b[0m\u001b[1;33m(\u001b[0m\u001b[0mtrain\u001b[0m\u001b[1;33m)\u001b[0m\u001b[1;33m\u001b[0m\u001b[1;33m\u001b[0m\u001b[0m\n\u001b[1;32m---> 14\u001b[1;33m \u001b[0mtransformed\u001b[0m \u001b[1;33m=\u001b[0m \u001b[0mpipe\u001b[0m\u001b[1;33m.\u001b[0m\u001b[0mfit_transform\u001b[0m\u001b[1;33m(\u001b[0m\u001b[0mX_train\u001b[0m\u001b[1;33m)\u001b[0m\u001b[1;33m\u001b[0m\u001b[1;33m\u001b[0m\u001b[0m\n\u001b[0m\u001b[0;32m     15\u001b[0m \u001b[0mprint\u001b[0m\u001b[1;33m(\u001b[0m\u001b[1;34m\"number of features after one-hot-encoding\"\u001b[0m\u001b[1;33m)\u001b[0m\u001b[1;33m\u001b[0m\u001b[1;33m\u001b[0m\u001b[0m\n\u001b[0;32m     16\u001b[0m \u001b[0mprint\u001b[0m\u001b[1;33m(\u001b[0m\u001b[0mtransformed\u001b[0m\u001b[1;33m.\u001b[0m\u001b[0mshape\u001b[0m\u001b[1;33m)\u001b[0m\u001b[1;33m\u001b[0m\u001b[1;33m\u001b[0m\u001b[0m\n",
      "\u001b[1;32m~\\Anaconda3\\lib\\site-packages\\sklearn\\pipeline.py\u001b[0m in \u001b[0;36mfit_transform\u001b[1;34m(self, X, y, **fit_params)\u001b[0m\n\u001b[0;32m    298\u001b[0m         \u001b[0mXt\u001b[0m\u001b[1;33m,\u001b[0m \u001b[0mfit_params\u001b[0m \u001b[1;33m=\u001b[0m \u001b[0mself\u001b[0m\u001b[1;33m.\u001b[0m\u001b[0m_fit\u001b[0m\u001b[1;33m(\u001b[0m\u001b[0mX\u001b[0m\u001b[1;33m,\u001b[0m \u001b[0my\u001b[0m\u001b[1;33m,\u001b[0m \u001b[1;33m**\u001b[0m\u001b[0mfit_params\u001b[0m\u001b[1;33m)\u001b[0m\u001b[1;33m\u001b[0m\u001b[1;33m\u001b[0m\u001b[0m\n\u001b[0;32m    299\u001b[0m         \u001b[1;32mif\u001b[0m \u001b[0mhasattr\u001b[0m\u001b[1;33m(\u001b[0m\u001b[0mlast_step\u001b[0m\u001b[1;33m,\u001b[0m \u001b[1;34m'fit_transform'\u001b[0m\u001b[1;33m)\u001b[0m\u001b[1;33m:\u001b[0m\u001b[1;33m\u001b[0m\u001b[1;33m\u001b[0m\u001b[0m\n\u001b[1;32m--> 300\u001b[1;33m             \u001b[1;32mreturn\u001b[0m \u001b[0mlast_step\u001b[0m\u001b[1;33m.\u001b[0m\u001b[0mfit_transform\u001b[0m\u001b[1;33m(\u001b[0m\u001b[0mXt\u001b[0m\u001b[1;33m,\u001b[0m \u001b[0my\u001b[0m\u001b[1;33m,\u001b[0m \u001b[1;33m**\u001b[0m\u001b[0mfit_params\u001b[0m\u001b[1;33m)\u001b[0m\u001b[1;33m\u001b[0m\u001b[1;33m\u001b[0m\u001b[0m\n\u001b[0m\u001b[0;32m    301\u001b[0m         \u001b[1;32melif\u001b[0m \u001b[0mlast_step\u001b[0m \u001b[1;32mis\u001b[0m \u001b[1;32mNone\u001b[0m\u001b[1;33m:\u001b[0m\u001b[1;33m\u001b[0m\u001b[1;33m\u001b[0m\u001b[0m\n\u001b[0;32m    302\u001b[0m             \u001b[1;32mreturn\u001b[0m \u001b[0mXt\u001b[0m\u001b[1;33m\u001b[0m\u001b[1;33m\u001b[0m\u001b[0m\n",
      "\u001b[1;32m~\\Anaconda3\\lib\\site-packages\\sklearn\\base.py\u001b[0m in \u001b[0;36mfit_transform\u001b[1;34m(self, X, y, **fit_params)\u001b[0m\n\u001b[0;32m    460\u001b[0m         \u001b[1;32mif\u001b[0m \u001b[0my\u001b[0m \u001b[1;32mis\u001b[0m \u001b[1;32mNone\u001b[0m\u001b[1;33m:\u001b[0m\u001b[1;33m\u001b[0m\u001b[1;33m\u001b[0m\u001b[0m\n\u001b[0;32m    461\u001b[0m             \u001b[1;31m# fit method of arity 1 (unsupervised transformation)\u001b[0m\u001b[1;33m\u001b[0m\u001b[1;33m\u001b[0m\u001b[1;33m\u001b[0m\u001b[0m\n\u001b[1;32m--> 462\u001b[1;33m             \u001b[1;32mreturn\u001b[0m \u001b[0mself\u001b[0m\u001b[1;33m.\u001b[0m\u001b[0mfit\u001b[0m\u001b[1;33m(\u001b[0m\u001b[0mX\u001b[0m\u001b[1;33m,\u001b[0m \u001b[1;33m**\u001b[0m\u001b[0mfit_params\u001b[0m\u001b[1;33m)\u001b[0m\u001b[1;33m.\u001b[0m\u001b[0mtransform\u001b[0m\u001b[1;33m(\u001b[0m\u001b[0mX\u001b[0m\u001b[1;33m)\u001b[0m\u001b[1;33m\u001b[0m\u001b[1;33m\u001b[0m\u001b[0m\n\u001b[0m\u001b[0;32m    463\u001b[0m         \u001b[1;32melse\u001b[0m\u001b[1;33m:\u001b[0m\u001b[1;33m\u001b[0m\u001b[1;33m\u001b[0m\u001b[0m\n\u001b[0;32m    464\u001b[0m             \u001b[1;31m# fit method of arity 2 (supervised transformation)\u001b[0m\u001b[1;33m\u001b[0m\u001b[1;33m\u001b[0m\u001b[1;33m\u001b[0m\u001b[0m\n",
      "\u001b[1;32m~\\Anaconda3\\lib\\site-packages\\sklearn\\preprocessing\\data.py\u001b[0m in \u001b[0;36mfit\u001b[1;34m(self, X, y)\u001b[0m\n\u001b[0;32m    623\u001b[0m         \u001b[1;31m# Reset internal state before fitting\u001b[0m\u001b[1;33m\u001b[0m\u001b[1;33m\u001b[0m\u001b[1;33m\u001b[0m\u001b[0m\n\u001b[0;32m    624\u001b[0m         \u001b[0mself\u001b[0m\u001b[1;33m.\u001b[0m\u001b[0m_reset\u001b[0m\u001b[1;33m(\u001b[0m\u001b[1;33m)\u001b[0m\u001b[1;33m\u001b[0m\u001b[1;33m\u001b[0m\u001b[0m\n\u001b[1;32m--> 625\u001b[1;33m         \u001b[1;32mreturn\u001b[0m \u001b[0mself\u001b[0m\u001b[1;33m.\u001b[0m\u001b[0mpartial_fit\u001b[0m\u001b[1;33m(\u001b[0m\u001b[0mX\u001b[0m\u001b[1;33m,\u001b[0m \u001b[0my\u001b[0m\u001b[1;33m)\u001b[0m\u001b[1;33m\u001b[0m\u001b[1;33m\u001b[0m\u001b[0m\n\u001b[0m\u001b[0;32m    626\u001b[0m \u001b[1;33m\u001b[0m\u001b[0m\n\u001b[0;32m    627\u001b[0m     \u001b[1;32mdef\u001b[0m \u001b[0mpartial_fit\u001b[0m\u001b[1;33m(\u001b[0m\u001b[0mself\u001b[0m\u001b[1;33m,\u001b[0m \u001b[0mX\u001b[0m\u001b[1;33m,\u001b[0m \u001b[0my\u001b[0m\u001b[1;33m=\u001b[0m\u001b[1;32mNone\u001b[0m\u001b[1;33m)\u001b[0m\u001b[1;33m:\u001b[0m\u001b[1;33m\u001b[0m\u001b[1;33m\u001b[0m\u001b[0m\n",
      "\u001b[1;32m~\\Anaconda3\\lib\\site-packages\\sklearn\\preprocessing\\data.py\u001b[0m in \u001b[0;36mpartial_fit\u001b[1;34m(self, X, y)\u001b[0m\n\u001b[0;32m    664\u001b[0m             \u001b[1;32mif\u001b[0m \u001b[0mself\u001b[0m\u001b[1;33m.\u001b[0m\u001b[0mwith_mean\u001b[0m\u001b[1;33m:\u001b[0m\u001b[1;33m\u001b[0m\u001b[1;33m\u001b[0m\u001b[0m\n\u001b[0;32m    665\u001b[0m                 raise ValueError(\n\u001b[1;32m--> 666\u001b[1;33m                     \u001b[1;34m\"Cannot center sparse matrices: pass `with_mean=False` \"\u001b[0m\u001b[1;33m\u001b[0m\u001b[1;33m\u001b[0m\u001b[0m\n\u001b[0m\u001b[0;32m    667\u001b[0m                     \"instead. See docstring for motivation and alternatives.\")\n\u001b[0;32m    668\u001b[0m \u001b[1;33m\u001b[0m\u001b[0m\n",
      "\u001b[1;31mValueError\u001b[0m: Cannot center sparse matrices: pass `with_mean=False` instead. See docstring for motivation and alternatives."
     ]
    }
   ],
   "source": [
    "from sklearn.preprocessing import OneHotEncoder\n",
    "\n",
    "enc = OneHotEncoder(handle_unknown='ignore')\n",
    "pipe = Pipeline([\n",
    "    ('dropping', RemovingFeatures(cols_removing)),\n",
    "    ('PoolQC', PoolQCTransformer()),\n",
    "    ('PoolArea', PoolAreaTransformer()),\n",
    "    ('GrLivArea', GrLivAreaTransformer()),\n",
    "    ('imputer', SimpleImputer(strategy='most_frequent')),\n",
    "    ('encoder', enc),\n",
    "    ('scaler', StandardScaler())\n",
    "])\n",
    "X_train, X_val, y_train, y_val = get_train_val(train)\n",
    "transformed = pipe.fit_transform(X_train)\n",
    "print(\"number of features after one-hot-encoding\")\n",
    "print(transformed.shape)"
   ]
  },
  {
   "cell_type": "code",
   "execution_count": 15,
   "metadata": {},
   "outputs": [
    {
     "data": {
      "text/plain": [
       "OneHotEncoder(cols=[2, 5, 6, 7, 8, 9, 10, 11, 12, 13, 14, 15, 20, 21, 22, 23, 24, 26, 27, 28, 29, 30, 31, 32, 34, 38, 39, 40, 41, 52, 54, 56, 58, 61, 62, 63, 74, 75],\n",
       "       drop_invariant=False, handle_unknown='impute', impute_missing=True,\n",
       "       return_df=True, use_cat_names=False, verbose=0)"
      ]
     },
     "execution_count": 15,
     "metadata": {},
     "output_type": "execute_result"
    }
   ],
   "source": [
    "encoder"
   ]
  },
  {
   "cell_type": "code",
   "execution_count": 17,
   "metadata": {},
   "outputs": [
    {
     "data": {
      "text/plain": [
       "Index(['MSZoning', 'Street', 'LotShape', 'LandContour', 'Utilities',\n",
       "       'LotConfig', 'LandSlope', 'Neighborhood', 'Condition1', 'Condition2',\n",
       "       'BldgType', 'HouseStyle', 'RoofStyle', 'RoofMatl', 'Exterior1st',\n",
       "       'Exterior2nd', 'MasVnrType', 'ExterQual', 'ExterCond', 'Foundation',\n",
       "       'BsmtQual', 'BsmtCond', 'BsmtExposure', 'BsmtFinType1', 'BsmtFinType2',\n",
       "       'Heating', 'HeatingQC', 'CentralAir', 'Electrical', 'KitchenQual',\n",
       "       'Functional', 'GarageType', 'GarageFinish', 'GarageQual', 'GarageCond',\n",
       "       'PavedDrive', 'SaleType', 'SaleCondition'],\n",
       "      dtype='object')"
      ]
     },
     "execution_count": 17,
     "metadata": {},
     "output_type": "execute_result"
    }
   ],
   "source": [
    "transformed.columns[encoder.cols]"
   ]
  },
  {
   "cell_type": "code",
   "execution_count": 20,
   "metadata": {},
   "outputs": [
    {
     "data": {
      "text/plain": [
       "[{'col': 2,\n",
       "  'mapping': [('RL', 1), ('RM', 2), ('FV', 3), ('C (all)', 4), ('RH', 5)]},\n",
       " {'col': 5, 'mapping': [('Pave', 1), ('Grvl', 2)]},\n",
       " {'col': 6, 'mapping': [('Reg', 1), ('IR1', 2), ('IR2', 3), ('IR3', 4)]},\n",
       " {'col': 7, 'mapping': [('Lvl', 1), ('HLS', 2), ('Bnk', 3), ('Low', 4)]},\n",
       " {'col': 8, 'mapping': [('AllPub', 1), ('NoSeWa', 2)]},\n",
       " {'col': 9,\n",
       "  'mapping': [('Inside', 1),\n",
       "   ('Corner', 2),\n",
       "   ('CulDSac', 3),\n",
       "   ('FR2', 4),\n",
       "   ('FR3', 5)]},\n",
       " {'col': 10, 'mapping': [('Gtl', 1), ('Mod', 2), ('Sev', 3)]},\n",
       " {'col': 11,\n",
       "  'mapping': [('NWAmes', 1),\n",
       "   ('Edwards', 2),\n",
       "   ('Somerst', 3),\n",
       "   ('CollgCr', 4),\n",
       "   ('NAmes', 5),\n",
       "   ('SawyerW', 6),\n",
       "   ('Sawyer', 7),\n",
       "   ('Gilbert', 8),\n",
       "   ('OldTown', 9),\n",
       "   ('BrkSide', 10),\n",
       "   ('SWISU', 11),\n",
       "   ('ClearCr', 12),\n",
       "   ('StoneBr', 13),\n",
       "   ('Crawfor', 14),\n",
       "   ('Mitchel', 15),\n",
       "   ('NoRidge', 16),\n",
       "   ('Blmngtn', 17),\n",
       "   ('Veenker', 18),\n",
       "   ('Timber', 19),\n",
       "   ('IDOTRR', 20),\n",
       "   ('NridgHt', 21),\n",
       "   ('BrDale', 22),\n",
       "   ('MeadowV', 23),\n",
       "   ('NPkVill', 24),\n",
       "   ('Blueste', 25)]},\n",
       " {'col': 12,\n",
       "  'mapping': [('Norm', 1),\n",
       "   ('RRNn', 2),\n",
       "   ('PosN', 3),\n",
       "   ('Feedr', 4),\n",
       "   ('PosA', 5),\n",
       "   ('Artery', 6),\n",
       "   ('RRAn', 7),\n",
       "   ('RRAe', 8),\n",
       "   ('RRNe', 9)]},\n",
       " {'col': 13,\n",
       "  'mapping': [('Norm', 1),\n",
       "   ('Feedr', 2),\n",
       "   ('RRAe', 3),\n",
       "   ('PosN', 4),\n",
       "   ('Artery', 5),\n",
       "   ('RRAn', 6)]},\n",
       " {'col': 14,\n",
       "  'mapping': [('1Fam', 1),\n",
       "   ('TwnhsE', 2),\n",
       "   ('Duplex', 3),\n",
       "   ('2fmCon', 4),\n",
       "   ('Twnhs', 5)]},\n",
       " {'col': 15,\n",
       "  'mapping': [('1Story', 1),\n",
       "   ('SLvl', 2),\n",
       "   ('2Story', 3),\n",
       "   ('1.5Fin', 4),\n",
       "   ('2.5Fin', 5),\n",
       "   ('SFoyer', 6),\n",
       "   ('1.5Unf', 7),\n",
       "   ('2.5Unf', 8)]},\n",
       " {'col': 20,\n",
       "  'mapping': [('Hip', 1),\n",
       "   ('Gable', 2),\n",
       "   ('Gambrel', 3),\n",
       "   ('Mansard', 4),\n",
       "   ('Flat', 5),\n",
       "   ('Shed', 6)]},\n",
       " {'col': 21,\n",
       "  'mapping': [('CompShg', 1),\n",
       "   ('WdShngl', 2),\n",
       "   ('WdShake', 3),\n",
       "   ('Metal', 4),\n",
       "   ('Tar&Grv', 5),\n",
       "   ('ClyTile', 6),\n",
       "   ('Roll', 7)]},\n",
       " {'col': 22,\n",
       "  'mapping': [('Plywood', 1),\n",
       "   ('VinylSd', 2),\n",
       "   ('Wd Sdng', 3),\n",
       "   ('MetalSd', 4),\n",
       "   ('HdBoard', 5),\n",
       "   ('BrkFace', 6),\n",
       "   ('WdShing', 7),\n",
       "   ('BrkComm', 8),\n",
       "   ('CemntBd', 9),\n",
       "   ('Stucco', 10),\n",
       "   ('AsbShng', 11),\n",
       "   ('CBlock', 12),\n",
       "   ('AsphShn', 13),\n",
       "   ('Stone', 14)]},\n",
       " {'col': 23,\n",
       "  'mapping': [('Plywood', 1),\n",
       "   ('VinylSd', 2),\n",
       "   ('ImStucc', 3),\n",
       "   ('Wd Sdng', 4),\n",
       "   ('MetalSd', 5),\n",
       "   ('HdBoard', 6),\n",
       "   ('BrkFace', 7),\n",
       "   ('Stucco', 8),\n",
       "   ('Brk Cmn', 9),\n",
       "   ('Wd Shng', 10),\n",
       "   ('CmentBd', 11),\n",
       "   ('AsbShng', 12),\n",
       "   ('Stone', 13),\n",
       "   ('Other', 14),\n",
       "   ('CBlock', 15),\n",
       "   ('AsphShn', 16)]},\n",
       " {'col': 24,\n",
       "  'mapping': [('BrkFace', 1), ('None', 2), ('Stone', 3), ('BrkCmn', 4)]},\n",
       " {'col': 26, 'mapping': [('TA', 1), ('Ex', 2), ('Gd', 3), ('Fa', 4)]},\n",
       " {'col': 27,\n",
       "  'mapping': [('TA', 1), ('Gd', 2), ('Fa', 3), ('Po', 4), ('Ex', 5)]},\n",
       " {'col': 28,\n",
       "  'mapping': [('PConc', 1),\n",
       "   ('CBlock', 2),\n",
       "   ('BrkTil', 3),\n",
       "   ('Slab', 4),\n",
       "   ('Wood', 5),\n",
       "   ('Stone', 6)]},\n",
       " {'col': 29, 'mapping': [('TA', 1), ('Gd', 2), ('Ex', 3), ('Fa', 4)]},\n",
       " {'col': 30, 'mapping': [('TA', 1), ('Gd', 2), ('Fa', 3), ('Po', 4)]},\n",
       " {'col': 31, 'mapping': [('No', 1), ('Gd', 2), ('Mn', 3), ('Av', 4)]},\n",
       " {'col': 32,\n",
       "  'mapping': [('Unf', 1),\n",
       "   ('GLQ', 2),\n",
       "   ('ALQ', 3),\n",
       "   ('Rec', 4),\n",
       "   ('BLQ', 5),\n",
       "   ('LwQ', 6)]},\n",
       " {'col': 34,\n",
       "  'mapping': [('Unf', 1),\n",
       "   ('ALQ', 2),\n",
       "   ('Rec', 3),\n",
       "   ('LwQ', 4),\n",
       "   ('BLQ', 5),\n",
       "   ('GLQ', 6)]},\n",
       " {'col': 38,\n",
       "  'mapping': [('GasA', 1),\n",
       "   ('GasW', 2),\n",
       "   ('Grav', 3),\n",
       "   ('OthW', 4),\n",
       "   ('Wall', 5),\n",
       "   ('Floor', 6)]},\n",
       " {'col': 39,\n",
       "  'mapping': [('Gd', 1), ('Ex', 2), ('TA', 3), ('Fa', 4), ('Po', 5)]},\n",
       " {'col': 40, 'mapping': [('Y', 1), ('N', 2)]},\n",
       " {'col': 41,\n",
       "  'mapping': [('SBrkr', 1), ('FuseA', 2), ('FuseF', 3), ('FuseP', 4)]},\n",
       " {'col': 52, 'mapping': [('TA', 1), ('Gd', 2), ('Ex', 3), ('Fa', 4)]},\n",
       " {'col': 54,\n",
       "  'mapping': [('Typ', 1),\n",
       "   ('Min2', 2),\n",
       "   ('Maj2', 3),\n",
       "   ('Mod', 4),\n",
       "   ('Min1', 5),\n",
       "   ('Maj1', 6),\n",
       "   ('Sev', 7)]},\n",
       " {'col': 56,\n",
       "  'mapping': [('Attchd', 1),\n",
       "   ('Basment', 2),\n",
       "   ('BuiltIn', 3),\n",
       "   ('Detchd', 4),\n",
       "   ('CarPort', 5),\n",
       "   ('2Types', 6)]},\n",
       " {'col': 58, 'mapping': [('Unf', 1), ('Fin', 2), ('RFn', 3)]},\n",
       " {'col': 61,\n",
       "  'mapping': [('TA', 1), ('Gd', 2), ('Fa', 3), ('Ex', 4), ('Po', 5)]},\n",
       " {'col': 62,\n",
       "  'mapping': [('TA', 1), ('Fa', 2), ('Po', 3), ('Gd', 4), ('Ex', 5)]},\n",
       " {'col': 63, 'mapping': [('Y', 1), ('N', 2), ('P', 3)]},\n",
       " {'col': 74,\n",
       "  'mapping': [('WD', 1),\n",
       "   ('Con', 2),\n",
       "   ('ConLw', 3),\n",
       "   ('New', 4),\n",
       "   ('COD', 5),\n",
       "   ('ConLD', 6),\n",
       "   ('CWD', 7),\n",
       "   ('Oth', 8),\n",
       "   ('ConLI', 9)]},\n",
       " {'col': 75,\n",
       "  'mapping': [('Normal', 1),\n",
       "   ('Partial', 2),\n",
       "   ('Abnorml', 3),\n",
       "   ('Family', 4),\n",
       "   ('AdjLand', 5),\n",
       "   ('Alloca', 6)]}]"
      ]
     },
     "execution_count": 20,
     "metadata": {},
     "output_type": "execute_result"
    }
   ],
   "source": [
    "encoder.category_mapping"
   ]
  },
  {
   "cell_type": "code",
   "execution_count": 21,
   "metadata": {},
   "outputs": [
    {
     "data": {
      "text/plain": [
       "RL         807\n",
       "RM         155\n",
       "FV          43\n",
       "RH          13\n",
       "C (all)      4\n",
       "Name: MSZoning, dtype: int64"
      ]
     },
     "execution_count": 21,
     "metadata": {},
     "output_type": "execute_result"
    }
   ],
   "source": [
    "transformed.MSZoning.value_counts()"
   ]
  },
  {
   "cell_type": "code",
   "execution_count": 27,
   "metadata": {},
   "outputs": [],
   "source": [
    "# if not specify handle_unknown='ignore', encoder will create automatically an extra col\n",
    "# to contain the category -1 (which is the missing value in the original col)\n",
    "enc = ce.OneHotEncoder(handle_unknown='ignore')\n",
    "df_encoded = enc.fit_transform(transformed)"
   ]
  },
  {
   "cell_type": "code",
   "execution_count": 28,
   "metadata": {},
   "outputs": [
    {
     "data": {
      "text/plain": [
       "Index(['MSZoning_1', 'MSZoning_2', 'MSZoning_3', 'MSZoning_4', 'MSZoning_5',\n",
       "       'Street_1', 'Street_2', 'LotShape_1', 'LotShape_2', 'LotShape_3',\n",
       "       ...\n",
       "       'WoodDeckSF', 'OpenPorchSF', 'EnclosedPorch', '3SsnPorch',\n",
       "       'ScreenPorch', 'PoolArea', 'PoolQC', 'MiscVal', 'MoSold', 'YrSold'],\n",
       "      dtype='object', length=278)"
      ]
     },
     "execution_count": 28,
     "metadata": {},
     "output_type": "execute_result"
    }
   ],
   "source": [
    "df_encoded.columns"
   ]
  },
  {
   "cell_type": "markdown",
   "metadata": {},
   "source": [
    "## sklearn OneHotEncoder"
   ]
  },
  {
   "cell_type": "code",
   "execution_count": 84,
   "metadata": {},
   "outputs": [
    {
     "data": {
      "text/plain": [
       "OneHotEncoder(categorical_features=None, categories=None,\n",
       "       dtype=<class 'numpy.float64'>, handle_unknown='ignore',\n",
       "       n_values=None, sparse=True)"
      ]
     },
     "execution_count": 84,
     "metadata": {},
     "output_type": "execute_result"
    }
   ],
   "source": [
    "from sklearn.preprocessing import OneHotEncoder\n",
    "\n",
    "enc = OneHotEncoder(handle_unknown='ignore')\n",
    "X = [['Male', 1], ['Female', 3], ['Female', 2]]\n",
    "enc.fit(X)"
   ]
  },
  {
   "cell_type": "code",
   "execution_count": 85,
   "metadata": {},
   "outputs": [
    {
     "data": {
      "text/plain": [
       "[['Male', 1], ['Female', 3], ['Female', 2]]"
      ]
     },
     "execution_count": 85,
     "metadata": {},
     "output_type": "execute_result"
    }
   ],
   "source": [
    "X"
   ]
  },
  {
   "cell_type": "code",
   "execution_count": 87,
   "metadata": {},
   "outputs": [
    {
     "data": {
      "text/plain": [
       "array(['x0_Female', 'x0_Male', 'x1_1', 'x1_2', 'x1_3'], dtype=object)"
      ]
     },
     "execution_count": 87,
     "metadata": {},
     "output_type": "execute_result"
    }
   ],
   "source": [
    "enc.get_feature_names()"
   ]
  },
  {
   "cell_type": "code",
   "execution_count": 88,
   "metadata": {},
   "outputs": [
    {
     "data": {
      "text/plain": [
       "numpy.ndarray"
      ]
     },
     "execution_count": 88,
     "metadata": {},
     "output_type": "execute_result"
    }
   ],
   "source": [
    "type(enc.get_feature_names())"
   ]
  },
  {
   "cell_type": "code",
   "execution_count": 89,
   "metadata": {},
   "outputs": [
    {
     "data": {
      "text/plain": [
       "['x0_Female', 'x0_Male', 'x1_1', 'x1_2', 'x1_3']"
      ]
     },
     "execution_count": 89,
     "metadata": {},
     "output_type": "execute_result"
    }
   ],
   "source": [
    "enc.get_feature_names().tolist()"
   ]
  },
  {
   "cell_type": "markdown",
   "metadata": {},
   "source": [
    "## apply sklearn OneHotEncoder to train df"
   ]
  },
  {
   "cell_type": "code",
   "execution_count": 128,
   "metadata": {},
   "outputs": [
    {
     "name": "stdout",
     "output_type": "stream",
     "text": [
      "number of missing values\n",
      "0\n",
      "number of cat features 38\n"
     ]
    }
   ],
   "source": [
    "from sklearn.preprocessing import OneHotEncoder\n",
    "from sklearn.impute import SimpleImputer\n",
    "\n",
    "cols_removing = ['Id', 'Alley', 'MiscFeature', 'Fence', 'FireplaceQu']\n",
    "pipe = Pipeline([\n",
    "    ('dropping', RemovingFeatures(cols_removing)),\n",
    "    ('PoolQC', PoolQCTransformer()),\n",
    "    ('PoolArea', PoolAreaTransformer()),\n",
    "    ('GrLivArea', GrLivAreaTransformer()),\n",
    "    ('garage features', GarageTransformer()),\n",
    "    ('impute LotFrontage 0', LotFrontageTransformer()),\n",
    "    ('impute MasVnr type and area', MasVnrTransformer()),\n",
    "    ('impute Electrical - most frequent', ElectricalTransformer()),\n",
    "    ('impute basement features', BasementTransformer()),\n",
    "])\n",
    "X_train, X_val, y_train, y_val = get_train_val(train)\n",
    "transformed = pipe.fit_transform(X_train)\n",
    "\n",
    "# missing values\n",
    "print(\"number of missing values\")\n",
    "null_sum = transformed.isnull().sum()\n",
    "print(len(null_sum[null_sum > 0]))\n",
    "\n",
    "# 38 cat_features\n",
    "cat_features = transformed.columns[transformed.dtypes == 'object'].tolist()\n",
    "print('number of cat features', len(cat_features))"
   ]
  },
  {
   "cell_type": "code",
   "execution_count": 134,
   "metadata": {},
   "outputs": [
    {
     "ename": "ValueError",
     "evalue": "could not convert string to float: 'RL'",
     "output_type": "error",
     "traceback": [
      "\u001b[1;31m---------------------------------------------------------------------------\u001b[0m",
      "\u001b[1;31mValueError\u001b[0m                                Traceback (most recent call last)",
      "\u001b[1;32m<ipython-input-134-65b1b4957bb1>\u001b[0m in \u001b[0;36m<module>\u001b[1;34m\u001b[0m\n\u001b[0;32m      2\u001b[0m \u001b[0mmask_cat_features\u001b[0m \u001b[1;33m=\u001b[0m \u001b[1;33m(\u001b[0m\u001b[0mtransformed\u001b[0m\u001b[1;33m.\u001b[0m\u001b[0mdtypes\u001b[0m \u001b[1;33m==\u001b[0m \u001b[1;34m'object'\u001b[0m\u001b[1;33m)\u001b[0m\u001b[1;33m\u001b[0m\u001b[1;33m\u001b[0m\u001b[0m\n\u001b[0;32m      3\u001b[0m \u001b[0menc\u001b[0m \u001b[1;33m=\u001b[0m \u001b[0mOneHotEncoder\u001b[0m\u001b[1;33m(\u001b[0m\u001b[0mhandle_unknown\u001b[0m\u001b[1;33m=\u001b[0m\u001b[1;34m'ignore'\u001b[0m\u001b[1;33m,\u001b[0m \u001b[0mcategorical_features\u001b[0m\u001b[1;33m=\u001b[0m\u001b[0mmask_cat_features\u001b[0m\u001b[1;33m)\u001b[0m\u001b[1;33m\u001b[0m\u001b[1;33m\u001b[0m\u001b[0m\n\u001b[1;32m----> 4\u001b[1;33m \u001b[0menc\u001b[0m\u001b[1;33m.\u001b[0m\u001b[0mfit\u001b[0m\u001b[1;33m(\u001b[0m\u001b[0mtransformed\u001b[0m\u001b[1;33m)\u001b[0m\u001b[1;33m\u001b[0m\u001b[1;33m\u001b[0m\u001b[0m\n\u001b[0m\u001b[0;32m      5\u001b[0m \u001b[0mlen\u001b[0m\u001b[1;33m(\u001b[0m\u001b[0menc\u001b[0m\u001b[1;33m.\u001b[0m\u001b[0mget_feature_names\u001b[0m\u001b[1;33m(\u001b[0m\u001b[1;33m)\u001b[0m\u001b[1;33m)\u001b[0m\u001b[1;33m\u001b[0m\u001b[1;33m\u001b[0m\u001b[0m\n",
      "\u001b[1;32m~\\Anaconda3\\lib\\site-packages\\sklearn\\preprocessing\\_encoders.py\u001b[0m in \u001b[0;36mfit\u001b[1;34m(self, X, y)\u001b[0m\n\u001b[0;32m    422\u001b[0m             _transform_selected(X, self._legacy_fit_transform, self.dtype,\n\u001b[0;32m    423\u001b[0m                                 \u001b[0mself\u001b[0m\u001b[1;33m.\u001b[0m\u001b[0m_categorical_features\u001b[0m\u001b[1;33m,\u001b[0m\u001b[1;33m\u001b[0m\u001b[1;33m\u001b[0m\u001b[0m\n\u001b[1;32m--> 424\u001b[1;33m                                 copy=True)\n\u001b[0m\u001b[0;32m    425\u001b[0m             \u001b[1;32mreturn\u001b[0m \u001b[0mself\u001b[0m\u001b[1;33m\u001b[0m\u001b[1;33m\u001b[0m\u001b[0m\n\u001b[0;32m    426\u001b[0m         \u001b[1;32melse\u001b[0m\u001b[1;33m:\u001b[0m\u001b[1;33m\u001b[0m\u001b[1;33m\u001b[0m\u001b[0m\n",
      "\u001b[1;32m~\\Anaconda3\\lib\\site-packages\\sklearn\\preprocessing\\base.py\u001b[0m in \u001b[0;36m_transform_selected\u001b[1;34m(X, transform, dtype, selected, copy, retain_order)\u001b[0m\n\u001b[0;32m     43\u001b[0m     \u001b[0mXt\u001b[0m \u001b[1;33m:\u001b[0m \u001b[0marray\u001b[0m \u001b[1;32mor\u001b[0m \u001b[0msparse\u001b[0m \u001b[0mmatrix\u001b[0m\u001b[1;33m,\u001b[0m \u001b[0mshape\u001b[0m\u001b[1;33m=\u001b[0m\u001b[1;33m(\u001b[0m\u001b[0mn_samples\u001b[0m\u001b[1;33m,\u001b[0m \u001b[0mn_features_new\u001b[0m\u001b[1;33m)\u001b[0m\u001b[1;33m\u001b[0m\u001b[1;33m\u001b[0m\u001b[0m\n\u001b[0;32m     44\u001b[0m     \"\"\"\n\u001b[1;32m---> 45\u001b[1;33m     \u001b[0mX\u001b[0m \u001b[1;33m=\u001b[0m \u001b[0mcheck_array\u001b[0m\u001b[1;33m(\u001b[0m\u001b[0mX\u001b[0m\u001b[1;33m,\u001b[0m \u001b[0maccept_sparse\u001b[0m\u001b[1;33m=\u001b[0m\u001b[1;34m'csc'\u001b[0m\u001b[1;33m,\u001b[0m \u001b[0mcopy\u001b[0m\u001b[1;33m=\u001b[0m\u001b[0mcopy\u001b[0m\u001b[1;33m,\u001b[0m \u001b[0mdtype\u001b[0m\u001b[1;33m=\u001b[0m\u001b[0mFLOAT_DTYPES\u001b[0m\u001b[1;33m)\u001b[0m\u001b[1;33m\u001b[0m\u001b[1;33m\u001b[0m\u001b[0m\n\u001b[0m\u001b[0;32m     46\u001b[0m \u001b[1;33m\u001b[0m\u001b[0m\n\u001b[0;32m     47\u001b[0m     \u001b[1;32mif\u001b[0m \u001b[0msparse\u001b[0m\u001b[1;33m.\u001b[0m\u001b[0missparse\u001b[0m\u001b[1;33m(\u001b[0m\u001b[0mX\u001b[0m\u001b[1;33m)\u001b[0m \u001b[1;32mand\u001b[0m \u001b[0mretain_order\u001b[0m\u001b[1;33m:\u001b[0m\u001b[1;33m\u001b[0m\u001b[1;33m\u001b[0m\u001b[0m\n",
      "\u001b[1;32m~\\Anaconda3\\lib\\site-packages\\sklearn\\utils\\validation.py\u001b[0m in \u001b[0;36mcheck_array\u001b[1;34m(array, accept_sparse, accept_large_sparse, dtype, order, copy, force_all_finite, ensure_2d, allow_nd, ensure_min_samples, ensure_min_features, warn_on_dtype, estimator)\u001b[0m\n\u001b[0;32m    525\u001b[0m             \u001b[1;32mtry\u001b[0m\u001b[1;33m:\u001b[0m\u001b[1;33m\u001b[0m\u001b[1;33m\u001b[0m\u001b[0m\n\u001b[0;32m    526\u001b[0m                 \u001b[0mwarnings\u001b[0m\u001b[1;33m.\u001b[0m\u001b[0msimplefilter\u001b[0m\u001b[1;33m(\u001b[0m\u001b[1;34m'error'\u001b[0m\u001b[1;33m,\u001b[0m \u001b[0mComplexWarning\u001b[0m\u001b[1;33m)\u001b[0m\u001b[1;33m\u001b[0m\u001b[1;33m\u001b[0m\u001b[0m\n\u001b[1;32m--> 527\u001b[1;33m                 \u001b[0marray\u001b[0m \u001b[1;33m=\u001b[0m \u001b[0mnp\u001b[0m\u001b[1;33m.\u001b[0m\u001b[0masarray\u001b[0m\u001b[1;33m(\u001b[0m\u001b[0marray\u001b[0m\u001b[1;33m,\u001b[0m \u001b[0mdtype\u001b[0m\u001b[1;33m=\u001b[0m\u001b[0mdtype\u001b[0m\u001b[1;33m,\u001b[0m \u001b[0morder\u001b[0m\u001b[1;33m=\u001b[0m\u001b[0morder\u001b[0m\u001b[1;33m)\u001b[0m\u001b[1;33m\u001b[0m\u001b[1;33m\u001b[0m\u001b[0m\n\u001b[0m\u001b[0;32m    528\u001b[0m             \u001b[1;32mexcept\u001b[0m \u001b[0mComplexWarning\u001b[0m\u001b[1;33m:\u001b[0m\u001b[1;33m\u001b[0m\u001b[1;33m\u001b[0m\u001b[0m\n\u001b[0;32m    529\u001b[0m                 raise ValueError(\"Complex data not supported\\n\"\n",
      "\u001b[1;32m~\\Anaconda3\\lib\\site-packages\\numpy\\core\\numeric.py\u001b[0m in \u001b[0;36masarray\u001b[1;34m(a, dtype, order)\u001b[0m\n\u001b[0;32m    499\u001b[0m \u001b[1;33m\u001b[0m\u001b[0m\n\u001b[0;32m    500\u001b[0m     \"\"\"\n\u001b[1;32m--> 501\u001b[1;33m     \u001b[1;32mreturn\u001b[0m \u001b[0marray\u001b[0m\u001b[1;33m(\u001b[0m\u001b[0ma\u001b[0m\u001b[1;33m,\u001b[0m \u001b[0mdtype\u001b[0m\u001b[1;33m,\u001b[0m \u001b[0mcopy\u001b[0m\u001b[1;33m=\u001b[0m\u001b[1;32mFalse\u001b[0m\u001b[1;33m,\u001b[0m \u001b[0morder\u001b[0m\u001b[1;33m=\u001b[0m\u001b[0morder\u001b[0m\u001b[1;33m)\u001b[0m\u001b[1;33m\u001b[0m\u001b[1;33m\u001b[0m\u001b[0m\n\u001b[0m\u001b[0;32m    502\u001b[0m \u001b[1;33m\u001b[0m\u001b[0m\n\u001b[0;32m    503\u001b[0m \u001b[1;33m\u001b[0m\u001b[0m\n",
      "\u001b[1;31mValueError\u001b[0m: could not convert string to float: 'RL'"
     ]
    }
   ],
   "source": [
    "# ohe\n",
    "mask_cat_features = (transformed.dtypes == 'object')\n",
    "enc = OneHotEncoder(handle_unknown='ignore', categorical_features=mask_cat_features)\n",
    "enc.fit(transformed)\n",
    "len(enc.get_feature_names())"
   ]
  },
  {
   "cell_type": "code",
   "execution_count": 136,
   "metadata": {},
   "outputs": [
    {
     "data": {
      "text/plain": [
       "'0.20.1'"
      ]
     },
     "execution_count": 136,
     "metadata": {},
     "output_type": "execute_result"
    }
   ],
   "source": [
    "sklearn.__version__"
   ]
  },
  {
   "cell_type": "code",
   "execution_count": null,
   "metadata": {},
   "outputs": [],
   "source": [
    "# ohe\n",
    "enc = OneHotEncoder(handle_unknown='ignore')\n",
    "enc.fit(transformed)\n",
    "len(enc.get_feature_names())\n",
    "\n",
    "model = XGBRegressor()\n",
    "model.fit(transformed, y_train)\n",
    "print(\"number of elements in feature_importances_\", len(model.feature_importances_))\n",
    "\n",
    "val_pred = model.predict(X_val)\n",
    "mse = mean_squared_error(np.log(y_val), np.log(val_pred))\n",
    "rmse = np.sqrt(mse)\n",
    "print(\"validation RMSE:\", rmse)"
   ]
  }
 ],
 "metadata": {
  "kernelspec": {
   "display_name": "Python 3",
   "language": "python",
   "name": "python3"
  },
  "language_info": {
   "codemirror_mode": {
    "name": "ipython",
    "version": 3
   },
   "file_extension": ".py",
   "mimetype": "text/x-python",
   "name": "python",
   "nbconvert_exporter": "python",
   "pygments_lexer": "ipython3",
   "version": "3.7.1"
  }
 },
 "nbformat": 4,
 "nbformat_minor": 2
}
