{
 "cells": [
  {
   "cell_type": "markdown",
   "metadata": {},
   "source": [
    "### Explore how good feature selection affect RMSE of log(price)"
   ]
  },
  {
   "cell_type": "code",
   "execution_count": 10,
   "metadata": {},
   "outputs": [],
   "source": [
    "import pandas as pd\n",
    "import matplotlib.pyplot as plt\n",
    "import seaborn as sns\n",
    "from xgboost import XGBRegressor\n",
    "import xgboost\n",
    "from sklearn.model_selection import train_test_split, GridSearchCV\n",
    "from sklearn.metrics import mean_squared_error\n",
    "import numpy as np\n",
    "import category_encoders as ce\n",
    "import pandas as pd\n",
    "import subprocess\n",
    "import pprint as pp\n",
    "import warnings\n",
    "from sklearn.pipeline import Pipeline\n",
    "from sklearn.base import TransformerMixin\n",
    "\n",
    "%matplotlib inline\n",
    "PATH='../data/'\n"
   ]
  },
  {
   "cell_type": "code",
   "execution_count": 11,
   "metadata": {},
   "outputs": [],
   "source": [
    "class RemovingFeatures(TransformerMixin):\n",
    "    \"\"\"\n",
    "    removing feature missing to many values\n",
    "    \"\"\"\n",
    "    def __init__(self, cols_removing):\n",
    "        self.cols_removing = cols_removing\n",
    "\n",
    "    def fit(self, X, y=None):\n",
    "        return self\n",
    "\n",
    "    def transform(self, X):\n",
    "        return X.drop(self.cols_removing, axis=1)\n",
    "\n",
    "\n",
    "class PoolQCTransformer(TransformerMixin):\n",
    "    \"\"\"\n",
    "    transform PoolQC column\n",
    "    \"\"\"\n",
    "\n",
    "    def fit(self, X, y=None):\n",
    "        return self\n",
    "\n",
    "    def transform(self, X):\n",
    "        map_poolqc = {\"PoolQC\": {\"Ex\": 3, \"Gd\": 2, \"Fa\": 1, np.nan: 0}}\n",
    "        return X.replace(map_poolqc)\n",
    "\n",
    "\n",
    "class PoolAreaTransformer(TransformerMixin):\n",
    "    \"\"\"\n",
    "    replace nan in PoolArea with 0\n",
    "    \"\"\"\n",
    "    def fit(self, X, y=None):\n",
    "        return self\n",
    "\n",
    "    def transform(self, X):\n",
    "        values = {\"PoolArea\": 0}\n",
    "        return X.fillna(value=values)\n",
    "\n",
    "\n",
    "class GrLivAreaTransformer(TransformerMixin):\n",
    "    \"\"\"\n",
    "    perform log transformation of GrLivArea col because it is right-skewed in\n",
    "    both train and test set\n",
    "    \"\"\"\n",
    "    def fit(self, X, y=None):\n",
    "        return self\n",
    "\n",
    "    def transform(self, X):\n",
    "        X['GrLivArea'] = np.log1p(X['GrLivArea'])  # log1p(x) more accurate for small x\n",
    "        return X\n",
    "\n",
    "\n",
    "class MSSubClassTransformer(TransformerMixin):\n",
    "    \"\"\"\n",
    "    one-hot encoded this feature because it is categorical\n",
    "    instead of recognize it as an int feature\n",
    "    \"\"\"\n",
    "\n",
    "    def fit(self, X, y=None):\n",
    "        return self\n",
    "\n",
    "    def transform(self, X):\n",
    "        col = 'MSSubClass'\n",
    "        dummy = pd.get_dummies(X[col], prefix=col)\n",
    "        drop_col = X.drop(col, axis=1)\n",
    "        df = pd.concat([dummy, drop_col], axis=1)\n",
    "        return df\n",
    "\n",
    "\n",
    "class RemodAfterAdding(TransformerMixin):\n",
    "    \"\"\"\n",
    "    add column RemodAfter = YearRemodAdd - YearBuilt\n",
    "    YearBuilt and YearRemodAdd has no missing values\n",
    "    \"\"\"\n",
    "    def fit(self, X, y=None):\n",
    "        return self\n",
    "\n",
    "    def transform(self, X):\n",
    "        X['RemodAfter'] = X['YearRemodAdd'] - X['YearBuilt']\n",
    "        return X"
   ]
  },
  {
   "cell_type": "code",
   "execution_count": 5,
   "metadata": {},
   "outputs": [],
   "source": [
    "train = pd.read_csv(PATH + 'train.csv')\n",
    "test = pd.read_csv(PATH + 'test.csv')"
   ]
  },
  {
   "cell_type": "code",
   "execution_count": 19,
   "metadata": {},
   "outputs": [
    {
     "name": "stdout",
     "output_type": "stream",
     "text": [
      "validation RMSE: 0.11667771861422976\n"
     ]
    }
   ],
   "source": [
    "from sklearn.impute import SimpleImputer\n",
    "from sklearn.preprocessing import StandardScaler\n",
    "from scipy import stats\n",
    "\n",
    "def get_train_val(train):\n",
    "    X = train.iloc[:, 0:-1]\n",
    "    y = train.iloc[:, -1]  # label SalePrice, last column\n",
    "    return train_test_split(X, y, test_size=0.3, random_state=42)\n",
    "\n",
    "def run_baseline_pool(train, test, encoder):\n",
    "    cols_removing = ['Alley', 'MiscFeature', 'Fence', 'FireplaceQu']\n",
    "    pipe = Pipeline([\n",
    "        ('dropping', RemovingFeatures(cols_removing)),\n",
    "        ('PoolQC', PoolQCTransformer()),\n",
    "        ('PoolArea', PoolAreaTransformer()),\n",
    "        ('GrLivArea', GrLivAreaTransformer()),\n",
    "        # ('AddingColRemodAfter', transformers.RemodAfterAdding()),\n",
    "        # ('MSSubClass', transformers.MSSubClassTransformer()),\n",
    "        ('imputer', SimpleImputer(strategy='most_frequent')),\n",
    "        ('encoder', encoder),\n",
    "        ('scaler', StandardScaler()),\n",
    "        ('reg', XGBRegressor(learning_rate=0.15)),\n",
    "    ])\n",
    "    kaggle_msg = 'xgb, removing outliers'\n",
    "    pipe = run_all_steps_baseline(train, test, pipe, kaggle_msg)\n",
    "    return pipe\n",
    "\n",
    "def run_all_steps_baseline(train, test, pipe, kaggle_msg):\n",
    "    # remove outliers\n",
    "    filter_not_outlier = np.abs(stats.zscore(train['GrLivArea'])) < 2.5\n",
    "    train = train[filter_not_outlier]\n",
    "\n",
    "    X_train, X_val, y_train, y_val = get_train_val(train)\n",
    "   \n",
    "    pipe.fit(X=X_train, y=y_train)\n",
    "    val_pred = pipe.predict(X_val)\n",
    "    mse = mean_squared_error(np.log(y_val), np.log(val_pred))\n",
    "    rmse = np.sqrt(mse)\n",
    "    print(\"validation RMSE:\", rmse)\n",
    "    return pipe\n",
    "\n",
    "warnings.filterwarnings('ignore')\n",
    "encoder = ce.OneHotEncoder()\n",
    "pipe = run_baseline_pool(train, test, encoder)"
   ]
  },
  {
   "cell_type": "code",
   "execution_count": 24,
   "metadata": {},
   "outputs": [
    {
     "name": "stdout",
     "output_type": "stream",
     "text": [
      "('reg', XGBRegressor(base_score=0.5, booster='gbtree', colsample_bylevel=1,\n",
      "       colsample_bytree=1, gamma=0, importance_type='gain',\n",
      "       learning_rate=0.15, max_delta_step=0, max_depth=3,\n",
      "       min_child_weight=1, missing=None, n_estimators=100, n_jobs=1,\n",
      "       nthread=None, objective='reg:linear', random_state=0, reg_alpha=0,\n",
      "       reg_lambda=1, scale_pos_weight=1, seed=None, silent=True,\n",
      "       subsample=1))\n"
     ]
    }
   ],
   "source": [
    "regtuple = pipe.steps[-1]\n",
    "print(regtuple)\n",
    "model = regtuple[1]"
   ]
  },
  {
   "cell_type": "code",
   "execution_count": 29,
   "metadata": {},
   "outputs": [
    {
     "data": {
      "text/plain": [
       "<matplotlib.axes._subplots.AxesSubplot at 0x24fec8ca6a0>"
      ]
     },
     "execution_count": 29,
     "metadata": {},
     "output_type": "execute_result"
    },
    {
     "data": {
      "image/png": "[encoded data removed]",
      "text/plain": [
       "<Figure size 432x288 with 1 Axes>"
      ]
     },
     "metadata": {},
     "output_type": "display_data"
    }
   ],
   "source": [
    "from xgboost import plot_importance\n",
    "\n",
    "plot_importance(model, max_num_features=20)"
   ]
  },
  {
   "cell_type": "code",
   "execution_count": 32,
   "metadata": {},
   "outputs": [],
   "source": [
    "cols_removing = ['Alley', 'MiscFeature', 'Fence', 'FireplaceQu']\n",
    "pipe = Pipeline([\n",
    "    ('dropping', RemovingFeatures(cols_removing)),\n",
    "    ('PoolQC', PoolQCTransformer()),\n",
    "    ('PoolArea', PoolAreaTransformer()),\n",
    "    ('GrLivArea', GrLivAreaTransformer()),\n",
    "    # ('AddingColRemodAfter', transformers.RemodAfterAdding()),\n",
    "    # ('MSSubClass', transformers.MSSubClassTransformer()),\n",
    "    ('imputer', SimpleImputer(strategy='most_frequent')),\n",
    "    ('encoder', encoder),\n",
    "    ('scaler', StandardScaler())\n",
    "])\n",
    "\n",
    "X_train, X_val, y_train, y_val = get_train_val(train)\n",
    "transformed = pipe.fit_transform(X_train)"
   ]
  },
  {
   "cell_type": "code",
   "execution_count": 33,
   "metadata": {},
   "outputs": [
    {
     "data": {
      "text/plain": [
       "array([[ 0.51615776, -0.42282076, -0.20957664, ..., -0.12298707,\n",
       "        -0.51494368,  0.14029267],\n",
       "       [-1.93739216,  2.36506837, -0.20957664, ..., -0.12298707,\n",
       "        -0.51494368, -1.36896114],\n",
       "       [-1.93739216, -0.42282076,  4.77152406, ..., -0.12298707,\n",
       "        -0.13741682,  1.64954649],\n",
       "       ...,\n",
       "       [ 0.51615776, -0.42282076, -0.20957664, ..., -0.12298707,\n",
       "        -0.89247054, -1.36896114],\n",
       "       [ 0.51615776, -0.42282076, -0.20957664, ..., -0.12298707,\n",
       "        -0.13741682, -0.61433423],\n",
       "       [ 0.51615776, -0.42282076, -0.20957664, ..., -0.12298707,\n",
       "        -0.13741682,  0.89491958]])"
      ]
     },
     "execution_count": 33,
     "metadata": {},
     "output_type": "execute_result"
    }
   ],
   "source": [
    "transformed"
   ]
  },
  {
   "cell_type": "code",
   "execution_count": null,
   "metadata": {},
   "outputs": [],
   "source": []
  },
  {
   "cell_type": "code",
   "execution_count": null,
   "metadata": {},
   "outputs": [],
   "source": []
  },
  {
   "cell_type": "code",
   "execution_count": null,
   "metadata": {},
   "outputs": [],
   "source": []
  },
  {
   "cell_type": "code",
   "execution_count": null,
   "metadata": {},
   "outputs": [],
   "source": []
  },
  {
   "cell_type": "code",
   "execution_count": null,
   "metadata": {},
   "outputs": [],
   "source": []
  },
  {
   "cell_type": "code",
   "execution_count": null,
   "metadata": {},
   "outputs": [],
   "source": []
  },
  {
   "cell_type": "code",
   "execution_count": null,
   "metadata": {},
   "outputs": [],
   "source": []
  },
  {
   "cell_type": "code",
   "execution_count": null,
   "metadata": {},
   "outputs": [],
   "source": []
  },
  {
   "cell_type": "code",
   "execution_count": null,
   "metadata": {},
   "outputs": [],
   "source": []
  }
 ],
 "metadata": {
  "kernelspec": {
   "display_name": "Python 3",
   "language": "python",
   "name": "python3"
  },
  "language_info": {
   "codemirror_mode": {
    "name": "ipython",
    "version": 3
   },
   "file_extension": ".py",
   "mimetype": "text/x-python",
   "name": "python",
   "nbconvert_exporter": "python",
   "pygments_lexer": "ipython3",
   "version": "3.6.5"
  }
 },
 "nbformat": 4,
 "nbformat_minor": 2
}
