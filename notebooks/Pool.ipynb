{
 "cells": [
  {
   "cell_type": "markdown",
   "metadata": {},
   "source": [
    "Features related to pool\n",
    "- PoolArea - pool area in square feet\n",
    "- PoolQC - pool quality\n",
    "\n",
    "In the baseline model\n",
    "- removed PoolQC because of too many missing values.\n",
    "- imputed PoolArea with most frequent value => can be wrong, because missing values might mean that house does not have a pool, which is a signal of having lower price compared to houses having pool.\n",
    "\n",
    "Inspect\n",
    "- whether having pool increase the price by pulling houses with similar features, one with pool and one without pool -> use distance between features no get similar houses\n",
    "\n",
    "Conclusion\n",
    "- PoolArea - should not encode this using most_frequent strategy, missing value should be encoded as 0 (no pool)."
   ]
  },
  {
   "cell_type": "code",
   "execution_count": 20,
   "metadata": {},
   "outputs": [],
   "source": [
    "import pandas as pd\n",
    "import numpy as np\n",
    "\n",
    "%matplotlib inline"
   ]
  },
  {
   "cell_type": "code",
   "execution_count": 31,
   "metadata": {},
   "outputs": [],
   "source": [
    "PATH='../data/'\n",
    "train = pd.read_csv(PATH + 'train.csv')\n",
    "test = pd.read_csv(PATH + 'test.csv')"
   ]
  },
  {
   "cell_type": "code",
   "execution_count": 17,
   "metadata": {},
   "outputs": [
    {
     "name": "stdout",
     "output_type": "stream",
     "text": [
      "NaN    1453\n",
      "Gd        3\n",
      "Ex        2\n",
      "Fa        2\n",
      "Name: PoolQC, dtype: int64\n",
      "\n",
      "NaN    1456\n",
      "Ex        2\n",
      "Gd        1\n",
      "Name: PoolQC, dtype: int64\n"
     ]
    }
   ],
   "source": [
    "\"\"\"\n",
    "PoolQC - pool quality\n",
    "    Ex Excellent\n",
    "    Gd Good\n",
    "    TA Average/Typical\n",
    "    Fa Fair\n",
    "    NA No Pool\n",
    "\"\"\"\n",
    "print(train['PoolQC'].value_counts(dropna=False))\n",
    "print()\n",
    "print(test['PoolQC'].value_counts(dropna=False))"
   ]
  },
  {
   "cell_type": "code",
   "execution_count": 18,
   "metadata": {},
   "outputs": [
    {
     "name": "stdout",
     "output_type": "stream",
     "text": [
      "0      1453\n",
      "738       1\n",
      "648       1\n",
      "576       1\n",
      "555       1\n",
      "519       1\n",
      "512       1\n",
      "480       1\n",
      "Name: PoolArea, dtype: int64\n",
      "\n",
      "0      1453\n",
      "800       1\n",
      "561       1\n",
      "444       1\n",
      "368       1\n",
      "228       1\n",
      "144       1\n",
      "Name: PoolArea, dtype: int64\n"
     ]
    }
   ],
   "source": [
    "print(train['PoolArea'].value_counts(dropna=False))\n",
    "print()\n",
    "print(test['PoolArea'].value_counts(dropna=False))"
   ]
  },
  {
   "cell_type": "markdown",
   "metadata": {},
   "source": [
    "### adding feature HavingPool 0:no pool, 1:has pool\n",
    "\n",
    "Looking at unique value counts for PoolArea, it might be useful to add a feature HavingPool to help model to determine easier whether house has pool or not.\n",
    "\n",
    "The number of house having pools are 7 which is equal to 7 PoolQC (quality) => definitely should keep this feature to explain pool quality to the model.\n",
    "\n",
    "#### PoolQC\n",
    "- there is level of quality -> can use ordinal encoder to encode this feature. For example:\n",
    "    - NA - 0\n",
    "    - Fa - 1\n",
    "    - TA - 2\n",
    "    - Gd - 3\n",
    "    - Ex - 4"
   ]
  },
  {
   "cell_type": "code",
   "execution_count": 12,
   "metadata": {},
   "outputs": [
    {
     "data": {
      "text/html": [
       "<div>\n",
       "<style scoped>\n",
       "    .dataframe tbody tr th:only-of-type {\n",
       "        vertical-align: middle;\n",
       "    }\n",
       "\n",
       "    .dataframe tbody tr th {\n",
       "        vertical-align: top;\n",
       "    }\n",
       "\n",
       "    .dataframe thead th {\n",
       "        text-align: right;\n",
       "    }\n",
       "</style>\n",
       "<table border=\"1\" class=\"dataframe\">\n",
       "  <thead>\n",
       "    <tr style=\"text-align: right;\">\n",
       "      <th></th>\n",
       "      <th>Id</th>\n",
       "      <th>PoolArea</th>\n",
       "      <th>PoolQC</th>\n",
       "      <th>SalePrice</th>\n",
       "    </tr>\n",
       "  </thead>\n",
       "  <tbody>\n",
       "    <tr>\n",
       "      <th>197</th>\n",
       "      <td>198</td>\n",
       "      <td>512</td>\n",
       "      <td>Ex</td>\n",
       "      <td>235000</td>\n",
       "    </tr>\n",
       "    <tr>\n",
       "      <th>810</th>\n",
       "      <td>811</td>\n",
       "      <td>648</td>\n",
       "      <td>Fa</td>\n",
       "      <td>181000</td>\n",
       "    </tr>\n",
       "    <tr>\n",
       "      <th>1170</th>\n",
       "      <td>1171</td>\n",
       "      <td>576</td>\n",
       "      <td>Gd</td>\n",
       "      <td>171000</td>\n",
       "    </tr>\n",
       "    <tr>\n",
       "      <th>1182</th>\n",
       "      <td>1183</td>\n",
       "      <td>555</td>\n",
       "      <td>Ex</td>\n",
       "      <td>745000</td>\n",
       "    </tr>\n",
       "    <tr>\n",
       "      <th>1298</th>\n",
       "      <td>1299</td>\n",
       "      <td>480</td>\n",
       "      <td>Gd</td>\n",
       "      <td>160000</td>\n",
       "    </tr>\n",
       "    <tr>\n",
       "      <th>1386</th>\n",
       "      <td>1387</td>\n",
       "      <td>519</td>\n",
       "      <td>Fa</td>\n",
       "      <td>250000</td>\n",
       "    </tr>\n",
       "    <tr>\n",
       "      <th>1423</th>\n",
       "      <td>1424</td>\n",
       "      <td>738</td>\n",
       "      <td>Gd</td>\n",
       "      <td>274970</td>\n",
       "    </tr>\n",
       "  </tbody>\n",
       "</table>\n",
       "</div>"
      ],
      "text/plain": [
       "        Id  PoolArea PoolQC  SalePrice\n",
       "197    198       512     Ex     235000\n",
       "810    811       648     Fa     181000\n",
       "1170  1171       576     Gd     171000\n",
       "1182  1183       555     Ex     745000\n",
       "1298  1299       480     Gd     160000\n",
       "1386  1387       519     Fa     250000\n",
       "1423  1424       738     Gd     274970"
      ]
     },
     "execution_count": 12,
     "metadata": {},
     "output_type": "execute_result"
    }
   ],
   "source": [
    "# get houses with pool and their prices\n",
    "cols = ['Id', 'PoolArea', 'PoolQC', 'SalePrice']\n",
    "pool = train[cols] \n",
    "pool = pool[pool.PoolArea != 0] # get only rows where house has pool\n",
    "pool.head(10)"
   ]
  },
  {
   "cell_type": "code",
   "execution_count": 13,
   "metadata": {},
   "outputs": [
    {
     "data": {
      "text/html": [
       "<div>\n",
       "<style scoped>\n",
       "    .dataframe tbody tr th:only-of-type {\n",
       "        vertical-align: middle;\n",
       "    }\n",
       "\n",
       "    .dataframe tbody tr th {\n",
       "        vertical-align: top;\n",
       "    }\n",
       "\n",
       "    .dataframe thead th {\n",
       "        text-align: right;\n",
       "    }\n",
       "</style>\n",
       "<table border=\"1\" class=\"dataframe\">\n",
       "  <thead>\n",
       "    <tr style=\"text-align: right;\">\n",
       "      <th></th>\n",
       "      <th>Id</th>\n",
       "      <th>PoolArea</th>\n",
       "      <th>PoolQC</th>\n",
       "      <th>SalePrice</th>\n",
       "    </tr>\n",
       "  </thead>\n",
       "  <tbody>\n",
       "    <tr>\n",
       "      <th>197</th>\n",
       "      <td>198</td>\n",
       "      <td>512</td>\n",
       "      <td>1</td>\n",
       "      <td>235000</td>\n",
       "    </tr>\n",
       "    <tr>\n",
       "      <th>810</th>\n",
       "      <td>811</td>\n",
       "      <td>648</td>\n",
       "      <td>2</td>\n",
       "      <td>181000</td>\n",
       "    </tr>\n",
       "    <tr>\n",
       "      <th>1170</th>\n",
       "      <td>1171</td>\n",
       "      <td>576</td>\n",
       "      <td>3</td>\n",
       "      <td>171000</td>\n",
       "    </tr>\n",
       "    <tr>\n",
       "      <th>1182</th>\n",
       "      <td>1183</td>\n",
       "      <td>555</td>\n",
       "      <td>1</td>\n",
       "      <td>745000</td>\n",
       "    </tr>\n",
       "    <tr>\n",
       "      <th>1298</th>\n",
       "      <td>1299</td>\n",
       "      <td>480</td>\n",
       "      <td>3</td>\n",
       "      <td>160000</td>\n",
       "    </tr>\n",
       "    <tr>\n",
       "      <th>1386</th>\n",
       "      <td>1387</td>\n",
       "      <td>519</td>\n",
       "      <td>2</td>\n",
       "      <td>250000</td>\n",
       "    </tr>\n",
       "    <tr>\n",
       "      <th>1423</th>\n",
       "      <td>1424</td>\n",
       "      <td>738</td>\n",
       "      <td>3</td>\n",
       "      <td>274970</td>\n",
       "    </tr>\n",
       "  </tbody>\n",
       "</table>\n",
       "</div>"
      ],
      "text/plain": [
       "        Id  PoolArea  PoolQC  SalePrice\n",
       "197    198       512       1     235000\n",
       "810    811       648       2     181000\n",
       "1170  1171       576       3     171000\n",
       "1182  1183       555       1     745000\n",
       "1298  1299       480       3     160000\n",
       "1386  1387       519       2     250000\n",
       "1423  1424       738       3     274970"
      ]
     },
     "execution_count": 13,
     "metadata": {},
     "output_type": "execute_result"
    }
   ],
   "source": [
    "import category_encoders as ce\n",
    "\n",
    "encoder = ce.OrdinalEncoder(cols=['PoolQC'])\n",
    "encoder.fit_transform(pool)"
   ]
  },
  {
   "cell_type": "code",
   "execution_count": 23,
   "metadata": {},
   "outputs": [
    {
     "data": {
      "text/plain": [
       "0    1453\n",
       "2       3\n",
       "3       2\n",
       "1       2\n",
       "Name: PoolQC, dtype: int64"
      ]
     },
     "execution_count": 23,
     "metadata": {},
     "output_type": "execute_result"
    }
   ],
   "source": [
    "replace_poolqc = {\"PoolQC\": {\"Ex\": 3, \"Gd\": 2, \"Fa\": 1, np.nan:0}}\n",
    "train.replace(replace_poolqc)['PoolQC'].value_counts()"
   ]
  },
  {
   "cell_type": "markdown",
   "metadata": {},
   "source": [
    "### Transformer"
   ]
  },
  {
   "cell_type": "code",
   "execution_count": 38,
   "metadata": {},
   "outputs": [
    {
     "name": "stdout",
     "output_type": "stream",
     "text": [
      "train\n",
      "NaN    1453\n",
      "Gd        3\n",
      "Ex        2\n",
      "Fa        2\n",
      "Name: PoolQC, dtype: int64\n",
      "\n",
      "train_transformed\n",
      "0    1453\n",
      "2       3\n",
      "3       2\n",
      "1       2\n",
      "Name: PoolQC, dtype: int64\n"
     ]
    }
   ],
   "source": [
    "# write a transformer to encode PoolQC\n",
    "from sklearn.base import TransformerMixin\n",
    "from sklearn.pipeline import Pipeline\n",
    "\n",
    "class PoolQCTransformer(TransformerMixin):\n",
    "    \"\"\"\n",
    "    transform PoolQC column\n",
    "    \"\"\"\n",
    "    def fit(self, X, y=None):\n",
    "        return self\n",
    "    \n",
    "    def transform(self, X):\n",
    "        map_poolqc = {\"PoolQC\": {\"Ex\": 3, \"Gd\": 2, \"Fa\": 1, np.nan:0}}\n",
    "        return X.replace(map_poolqc)\n",
    "    \n",
    "# test PoolQCTransformer\n",
    "pipe = Pipeline([\n",
    "    ('PoolQCEncoding', PoolQCTransformer())\n",
    "])\n",
    "train_transformed = pipe.transform(train)\n",
    "\n",
    "print(\"train\")\n",
    "print(train['PoolQC'].value_counts(dropna=False))\n",
    "print(\"\\ntrain_transformed\")\n",
    "print(train_transformed['PoolQC'].value_counts(dropna=False))"
   ]
  },
  {
   "cell_type": "code",
   "execution_count": 11,
   "metadata": {},
   "outputs": [],
   "source": [
    "# write a transformer to encode PoolArea"
   ]
  },
  {
   "cell_type": "code",
   "execution_count": 39,
   "metadata": {},
   "outputs": [],
   "source": [
    "import category_encoders as ce"
   ]
  },
  {
   "cell_type": "code",
   "execution_count": null,
   "metadata": {},
   "outputs": [],
   "source": []
  }
 ],
 "metadata": {
  "kernelspec": {
   "display_name": "Python 3",
   "language": "python",
   "name": "python3"
  },
  "language_info": {
   "codemirror_mode": {
    "name": "ipython",
    "version": 3
   },
   "file_extension": ".py",
   "mimetype": "text/x-python",
   "name": "python",
   "nbconvert_exporter": "python",
   "pygments_lexer": "ipython3",
   "version": "3.6.5"
  }
 },
 "nbformat": 4,
 "nbformat_minor": 2
}
