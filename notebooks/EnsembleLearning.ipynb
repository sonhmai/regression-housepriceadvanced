{
 "cells": [
  {
   "cell_type": "markdown",
   "metadata": {},
   "source": [
    "### Explore how good feature selection affect RMSE of log(price)"
   ]
  },
  {
   "cell_type": "code",
   "execution_count": 73,
   "metadata": {},
   "outputs": [],
   "source": [
    "import pandas as pd\n",
    "import matplotlib.pyplot as plt\n",
    "import seaborn as sns\n",
    "from xgboost import XGBRegressor\n",
    "import xgboost\n",
    "from sklearn.model_selection import train_test_split, GridSearchCV\n",
    "from sklearn.metrics import mean_squared_error\n",
    "import numpy as np\n",
    "import category_encoders as ce\n",
    "import pandas as pd\n",
    "import subprocess\n",
    "import pprint as pp\n",
    "import warnings\n",
    "\n",
    "%matplotlib inline\n",
    "PATH='../data/'\n",
    "\n",
    "# submission\n",
    "COMPETITION = 'house-prices-advanced-regression-techniques'\n",
    "def post_kaggle(path, message):\n",
    "    command = f'kaggle competitions submit -c {COMPETITION} -f {path} -m \"{message}\"'\n",
    "    bytes_output = subprocess.check_output(command, shell=True)\n",
    "    pp.pprint(str(bytes_output, encoding='UTF-8'))\n",
    "    \n",
    "def get_X(df):\n",
    "    X = df[features_selected]\n",
    "    # one-hot encoder categorical features\n",
    "    features_cat = ['SaleCondition', 'Neighborhood']\n",
    "    dummies = pd.get_dummies(X[features_cat])\n",
    "    X_dropped = X.drop(features_cat, axis=1)\n",
    "    X = pd.concat([X_dropped, dummies], axis=1)\n",
    "    return X\n",
    "\n",
    "def get_X_logMSSubClass(df):\n",
    "    X = df[features_selected]\n",
    "    # one-hot encoder categorical features\n",
    "    features_cat = ['SaleCondition', 'Neighborhood']\n",
    "    dummies = pd.get_dummies(X[features_cat])\n",
    "    X_dropped = X.drop(features_cat, axis=1)\n",
    "    X = pd.concat([X_dropped, dummies], axis=1)\n",
    "    return X\n",
    "\n",
    "def run_cv(X_train, X_val, y_train, y_val):\n",
    "    model = XGBRegressor()\n",
    "    param_grid = {\n",
    "        'n_estimators': [5, 7, 10, 12, 15, 25, 50],\n",
    "        'learning_rate': [0.1, 0.4, 0.5, 0.6, 1],\n",
    "        'max_depth': [3, 4, 5, 6, 7, 10],\n",
    "    }\n",
    "    searchcv = GridSearchCV(model, cv=4, param_grid=param_grid)\n",
    "    searchcv.fit(X_train, y_train)\n",
    "    model = searchcv.best_estimator_\n",
    "    print(searchcv.best_params_)\n",
    "    print(searchcv.best_score_)\n",
    "    val_pred = model.predict(X_val)\n",
    "    mse = mean_squared_error(np.log(y_val), np.log(val_pred))\n",
    "    rmse = np.sqrt(mse)\n",
    "    print(\"validation RMSE:\", rmse)\n",
    "    return model\n",
    "\n",
    "def run_modeling():\n",
    "    model = XGBRegressor()\n",
    "    model.fit(X_train, y_train)\n",
    "    val_pred = model.predict(X_val)\n",
    "    mse = mean_squared_error(np.log(y_val), np.log(val_pred))\n",
    "    rmse = np.sqrt(mse)\n",
    "    print(\"validation RMSE:\", rmse)\n",
    "    return model"
   ]
  },
  {
   "cell_type": "code",
   "execution_count": 7,
   "metadata": {},
   "outputs": [],
   "source": [
    "train = pd.read_csv(PATH + 'train.csv')\n",
    "test = pd.read_csv(PATH + 'test.csv')"
   ]
  },
  {
   "cell_type": "code",
   "execution_count": 14,
   "metadata": {},
   "outputs": [],
   "source": [
    "features_selected = ['SaleCondition', 'MSSubClass', 'Neighborhood', 'OverallQual',\n",
    "                    'OverallCond', 'GrLivArea', 'BedroomAbvGr']"
   ]
  },
  {
   "cell_type": "code",
   "execution_count": 16,
   "metadata": {},
   "outputs": [
    {
     "data": {
      "text/plain": [
       "SaleCondition    0\n",
       "MSSubClass       0\n",
       "Neighborhood     0\n",
       "OverallQual      0\n",
       "OverallCond      0\n",
       "GrLivArea        0\n",
       "BedroomAbvGr     0\n",
       "dtype: int64"
      ]
     },
     "execution_count": 16,
     "metadata": {},
     "output_type": "execute_result"
    }
   ],
   "source": [
    "train[features_selected].isnull().sum()"
   ]
  },
  {
   "cell_type": "code",
   "execution_count": 58,
   "metadata": {
    "scrolled": true
   },
   "outputs": [
    {
     "data": {
      "text/plain": [
       "Normal     1198\n",
       "Partial     125\n",
       "Abnorml     101\n",
       "Family       20\n",
       "Alloca       12\n",
       "AdjLand       4\n",
       "Name: SaleCondition, dtype: int64"
      ]
     },
     "execution_count": 58,
     "metadata": {},
     "output_type": "execute_result"
    }
   ],
   "source": [
    "train.SaleCondition.value_counts()"
   ]
  },
  {
   "cell_type": "markdown",
   "metadata": {},
   "source": [
    "There is no missing values in the above features, so let's run a baseline XGBRegressor to see how well we do using only 7 features as above."
   ]
  },
  {
   "cell_type": "code",
   "execution_count": 70,
   "metadata": {},
   "outputs": [
    {
     "name": "stdout",
     "output_type": "stream",
     "text": [
      "(1022, 36) (1022,) (438, 36) (438,)\n"
     ]
    },
    {
     "ename": "TypeError",
     "evalue": "run_cv() missing 4 required positional arguments: 'X_train', 'X_val', 'y_train', and 'y_val'",
     "output_type": "error",
     "traceback": [
      "\u001b[1;31m---------------------------------------------------------------------------\u001b[0m",
      "\u001b[1;31mTypeError\u001b[0m                                 Traceback (most recent call last)",
      "\u001b[1;32m<ipython-input-70-b8d3a34105e5>\u001b[0m in \u001b[0;36m<module>\u001b[1;34m()\u001b[0m\n\u001b[0;32m      5\u001b[0m \u001b[0mprint\u001b[0m\u001b[1;33m(\u001b[0m\u001b[0mX_train\u001b[0m\u001b[1;33m.\u001b[0m\u001b[0mshape\u001b[0m\u001b[1;33m,\u001b[0m \u001b[0my_train\u001b[0m\u001b[1;33m.\u001b[0m\u001b[0mshape\u001b[0m\u001b[1;33m,\u001b[0m \u001b[0mX_val\u001b[0m\u001b[1;33m.\u001b[0m\u001b[0mshape\u001b[0m\u001b[1;33m,\u001b[0m \u001b[0my_val\u001b[0m\u001b[1;33m.\u001b[0m\u001b[0mshape\u001b[0m\u001b[1;33m)\u001b[0m\u001b[1;33m\u001b[0m\u001b[0m\n\u001b[0;32m      6\u001b[0m \u001b[1;33m\u001b[0m\u001b[0m\n\u001b[1;32m----> 7\u001b[1;33m \u001b[0mmodel\u001b[0m \u001b[1;33m=\u001b[0m \u001b[0mrun_cv\u001b[0m\u001b[1;33m(\u001b[0m\u001b[1;33m)\u001b[0m\u001b[1;33m\u001b[0m\u001b[0m\n\u001b[0m\u001b[0;32m      8\u001b[0m \u001b[1;33m\u001b[0m\u001b[0m\n\u001b[0;32m      9\u001b[0m \u001b[0mwarnings\u001b[0m\u001b[1;33m.\u001b[0m\u001b[0mfilterwarnings\u001b[0m\u001b[1;33m(\u001b[0m\u001b[1;34m'ignore'\u001b[0m\u001b[1;33m)\u001b[0m\u001b[1;33m\u001b[0m\u001b[0m\n",
      "\u001b[1;31mTypeError\u001b[0m: run_cv() missing 4 required positional arguments: 'X_train', 'X_val', 'y_train', and 'y_val'"
     ]
    }
   ],
   "source": [
    "y = train['SalePrice']\n",
    "X = get_X(train)\n",
    "# train_test_split\n",
    "X_train, X_val, y_train, y_val = train_test_split(X, y, test_size=0.3, random_state=42)\n",
    "print(X_train.shape, y_train.shape, X_val.shape, y_val.shape)\n",
    "\n",
    "model = run_cv(X_train, X_val, y_train, y_val)\n",
    "\n",
    "warnings.filterwarnings('ignore')\n",
    "# one-hot encoding test dataframe\n",
    "test_transformed = get_X(test)\n",
    "test_transformed['SalePrice'] = model.predict(test_transformed)\n",
    "test_transformed = pd.concat([test[['Id']], test_transformed['SalePrice']], axis=1)\n",
    "df_submitting = test_transformed[['Id', 'SalePrice']]\n",
    "path_output = './output.csv'\n",
    "df_submitting.to_csv(path_output, index=False)\n",
    "post_kaggle(path_output, 'feature selection, only 6, naive xgb')"
   ]
  },
  {
   "cell_type": "code",
   "execution_count": null,
   "metadata": {},
   "outputs": [],
   "source": []
  },
  {
   "cell_type": "markdown",
   "metadata": {},
   "source": [
    "## Log transform of MSSubClass\n",
    "\n",
    "See if taking log transformation of MSSubClass reduces error. Because MSSubClass has right-skewed distribution."
   ]
  },
  {
   "cell_type": "code",
   "execution_count": 63,
   "metadata": {},
   "outputs": [
    {
     "data": {
      "image/png": "[encoded data removed]",
      "text/plain": [
       "<Figure size 432x288 with 1 Axes>"
      ]
     },
     "metadata": {},
     "output_type": "display_data"
    },
    {
     "data": {
      "text/plain": [
       "<matplotlib.axes._subplots.AxesSubplot at 0x17658982320>"
      ]
     },
     "execution_count": 63,
     "metadata": {},
     "output_type": "execute_result"
    },
    {
     "data": {
      "image/png": "[encoded data removed]",
      "text/plain": [
       "<Figure size 432x288 with 1 Axes>"
      ]
     },
     "metadata": {},
     "output_type": "display_data"
    }
   ],
   "source": [
    "y = train['SalePrice']\n",
    "X = get_X(train)\n",
    "X['MSSubClass'].hist()\n",
    "plt.show() \n",
    "\n",
    "X['MSSubClass'] = np.log(X['MSSubClass'])\n",
    "X['MSSubClass'].hist()"
   ]
  },
  {
   "cell_type": "markdown",
   "metadata": {},
   "source": [
    "Log transformation does not reduce the skewness. The reason might be that the original distribution is now a skewed normal distribution, it does not tail on the left. Anyway, let's try to fit a model on it any way to see if there is improvement."
   ]
  },
  {
   "cell_type": "code",
   "execution_count": 67,
   "metadata": {},
   "outputs": [
    {
     "name": "stdout",
     "output_type": "stream",
     "text": [
      "{'learning_rate': 0.4, 'max_depth': 4, 'n_estimators': 25}\n",
      "0.8434218956296858\n",
      "validation RMSE: 0.1517527730955055\n"
     ]
    }
   ],
   "source": [
    "warnings.filterwarnings('ignore')\n",
    "X_train, X_val, y_train, y_val = train_test_split(X, y, test_size=0.3, random_state=42)\n",
    "model = run_cv(X_train, X_val, y_train, y_val)"
   ]
  },
  {
   "cell_type": "code",
   "execution_count": 68,
   "metadata": {},
   "outputs": [
    {
     "name": "stdout",
     "output_type": "stream",
     "text": [
      "'Successfully submitted to House Prices: Advanced Regression Techniques'\n"
     ]
    }
   ],
   "source": [
    "test_transformed = get_X(test)\n",
    "# log transform of feature MSSubClass of test data\n",
    "test_transformed['MSSubClass'] = np.log(test_transformed['MSSubClass'])\n",
    "test_transformed['SalePrice'] = model.predict(test_transformed)\n",
    "test_transformed = pd.concat([test[['Id']], test_transformed['SalePrice']], axis=1)\n",
    "df_submitting = test_transformed[['Id', 'SalePrice']]\n",
    "path_output = './output.csv'\n",
    "df_submitting.to_csv(path_output, index=False)\n",
    "post_kaggle(path_output, 'feature selection, only 6, naive xgb')"
   ]
  },
  {
   "cell_type": "markdown",
   "metadata": {},
   "source": [
    "Public score improve a little, from 0.15953 reduced to 0.15895. The validation RMSE stays the same at 0.1517"
   ]
  },
  {
   "cell_type": "markdown",
   "metadata": {},
   "source": [
    "## Loss - How do xgboost that I'm optimized for RMSE of log(price)\n",
    "- what is the score xgboost calculating?\n",
    "- is it aligned with my RMSE of log(SalePrice) score?"
   ]
  },
  {
   "cell_type": "code",
   "execution_count": 72,
   "metadata": {},
   "outputs": [
    {
     "name": "stdout",
     "output_type": "stream",
     "text": [
      "{'learning_rate': 0.4, 'max_depth': 4, 'n_estimators': 25}\n",
      "0.8434218956296858\n",
      "validation RMSE: 0.1517527730955055\n"
     ]
    },
    {
     "data": {
      "text/plain": [
       "array([0.02579284, 0.4445752 , 0.01777592, 0.08542355, 0.01133616,\n",
       "       0.01173441, 0.        , 0.01387568, 0.00173048, 0.0242124 ,\n",
       "       0.05167069, 0.00578878, 0.        , 0.02224982, 0.00367089,\n",
       "       0.02356117, 0.00506292, 0.00772393, 0.00582957, 0.0353227 ,\n",
       "       0.01685827, 0.        , 0.00933245, 0.00869253, 0.        ,\n",
       "       0.00785994, 0.01014003, 0.01811853, 0.06379423, 0.01374124,\n",
       "       0.        , 0.00085013, 0.01277062, 0.01426163, 0.00938452,\n",
       "       0.01685877], dtype=float32)"
      ]
     },
     "execution_count": 72,
     "metadata": {},
     "output_type": "execute_result"
    }
   ],
   "source": [
    "# pass eval_metric='rmse' to model.fit() function\n",
    "y = train['SalePrice']\n",
    "X = get_X(train)\n",
    "X['MSSubClass'] = np.log(X['MSSubClass'])\n",
    "X_train, X_val, y_train, y_val = train_test_split(X, y, test_size=0.3, random_state=42)\n",
    "model = XGBRegressor()\n",
    "param_grid = {\n",
    "    'n_estimators': [5, 7, 10, 12, 15, 25, 50],\n",
    "    'learning_rate': [0.05, 0.1, 0.3, 0.4, 0.5],\n",
    "    'max_depth': [3, 4, 5, 6, 7, 10],\n",
    "}\n",
    "searchcv = GridSearchCV(model, cv=4, param_grid=param_grid)\n",
    "searchcv.fit(X_train, y_train, eval_metric='rmse')\n",
    "model = searchcv.best_estimator_\n",
    "print(searchcv.best_params_)\n",
    "print(searchcv.best_score_)\n",
    "val_pred = model.predict(X_val)\n",
    "mse = mean_squared_error(np.log(y_val), np.log(val_pred))\n",
    "rmse = np.sqrt(mse)\n",
    "print(\"validation RMSE:\", rmse)\n",
    "model.feature_importances_"
   ]
  },
  {
   "cell_type": "code",
   "execution_count": 74,
   "metadata": {},
   "outputs": [
    {
     "data": {
      "text/plain": [
       "<matplotlib.axes._subplots.AxesSubplot at 0x17658a28470>"
      ]
     },
     "execution_count": 74,
     "metadata": {},
     "output_type": "execute_result"
    },
    {
     "data": {
      "image/png": "[encoded data removed]",
      "text/plain": [
       "<Figure size 432x288 with 1 Axes>"
      ]
     },
     "metadata": {},
     "output_type": "display_data"
    }
   ],
   "source": [
    "xgboost.plot_importance(model, max_num_features=10)"
   ]
  },
  {
   "cell_type": "code",
   "execution_count": null,
   "metadata": {},
   "outputs": [],
   "source": []
  },
  {
   "cell_type": "code",
   "execution_count": 69,
   "metadata": {},
   "outputs": [
    {
     "name": "stdout",
     "output_type": "stream",
     "text": [
      "(1460, 81)\n",
      "(1459, 80)\n"
     ]
    }
   ],
   "source": [
    "# list of cols having\n",
    "cols_missing = ['LotFrontage', 'Alley', 'MasVnrType', 'MasVnrArea', 'BsmtQual', 'BsmtCond', \n",
    "                'BsmtExposure', 'BsmtFinType1', 'BsmtFinType2', 'Electrical', 'FireplaceQu',\n",
    "                'GarageType', 'GarageYrBlt', 'GarageFinish', 'GarageQual', 'GarageCond', \n",
    "                'PoolQC', 'Fence', 'MiscFeature']\n",
    "print(train.shape)\n",
    "print(test.shape)"
   ]
  },
  {
   "cell_type": "code",
   "execution_count": 7,
   "metadata": {},
   "outputs": [
    {
     "data": {
      "text/plain": [
       "LotFrontage     float64\n",
       "Alley            object\n",
       "MasVnrType       object\n",
       "MasVnrArea      float64\n",
       "BsmtQual         object\n",
       "BsmtCond         object\n",
       "BsmtExposure     object\n",
       "BsmtFinType1     object\n",
       "BsmtFinType2     object\n",
       "Electrical       object\n",
       "FireplaceQu      object\n",
       "GarageType       object\n",
       "GarageYrBlt     float64\n",
       "GarageFinish     object\n",
       "GarageQual       object\n",
       "GarageCond       object\n",
       "PoolQC           object\n",
       "Fence            object\n",
       "MiscFeature      object\n",
       "dtype: object"
      ]
     },
     "execution_count": 7,
     "metadata": {},
     "output_type": "execute_result"
    }
   ],
   "source": [
    "train.dtypes[cols_missing]"
   ]
  },
  {
   "cell_type": "code",
   "execution_count": 28,
   "metadata": {},
   "outputs": [
    {
     "data": {
      "text/plain": [
       "(1460, 81)"
      ]
     },
     "execution_count": 28,
     "metadata": {},
     "output_type": "execute_result"
    }
   ],
   "source": [
    "train.shape"
   ]
  },
  {
   "cell_type": "code",
   "execution_count": 16,
   "metadata": {},
   "outputs": [
    {
     "data": {
      "text/plain": [
       "LotFrontage      259\n",
       "Alley           1369\n",
       "MasVnrType         8\n",
       "MasVnrArea         8\n",
       "BsmtQual          37\n",
       "BsmtCond          37\n",
       "BsmtExposure      38\n",
       "BsmtFinType1      37\n",
       "BsmtFinType2      38\n",
       "Electrical         1\n",
       "FireplaceQu      690\n",
       "GarageType        81\n",
       "GarageYrBlt       81\n",
       "GarageFinish      81\n",
       "GarageQual        81\n",
       "GarageCond        81\n",
       "PoolQC          1453\n",
       "Fence           1179\n",
       "MiscFeature     1406\n",
       "dtype: int64"
      ]
     },
     "execution_count": 16,
     "metadata": {},
     "output_type": "execute_result"
    }
   ],
   "source": [
    "train[cols_missing].isnull().sum()"
   ]
  },
  {
   "cell_type": "code",
   "execution_count": 27,
   "metadata": {},
   "outputs": [
    {
     "data": {
      "text/plain": [
       "LotFrontage      227\n",
       "Alley           1352\n",
       "MasVnrType        16\n",
       "MasVnrArea        15\n",
       "BsmtQual          44\n",
       "BsmtCond          45\n",
       "BsmtExposure      44\n",
       "BsmtFinType1      42\n",
       "BsmtFinType2      42\n",
       "Electrical         0\n",
       "FireplaceQu      730\n",
       "GarageType        76\n",
       "GarageYrBlt       78\n",
       "GarageFinish      78\n",
       "GarageQual        78\n",
       "GarageCond        78\n",
       "PoolQC          1456\n",
       "Fence           1169\n",
       "MiscFeature     1408\n",
       "dtype: int64"
      ]
     },
     "execution_count": 27,
     "metadata": {},
     "output_type": "execute_result"
    }
   ],
   "source": [
    "test[cols_missing].isnull().sum()"
   ]
  },
  {
   "cell_type": "code",
   "execution_count": 47,
   "metadata": {},
   "outputs": [
    {
     "data": {
      "text/html": [
       "<div>\n",
       "<style scoped>\n",
       "    .dataframe tbody tr th:only-of-type {\n",
       "        vertical-align: middle;\n",
       "    }\n",
       "\n",
       "    .dataframe tbody tr th {\n",
       "        vertical-align: top;\n",
       "    }\n",
       "\n",
       "    .dataframe thead th {\n",
       "        text-align: right;\n",
       "    }\n",
       "</style>\n",
       "<table border=\"1\" class=\"dataframe\">\n",
       "  <thead>\n",
       "    <tr style=\"text-align: right;\">\n",
       "      <th></th>\n",
       "      <th>count</th>\n",
       "      <th>dtype</th>\n",
       "    </tr>\n",
       "  </thead>\n",
       "  <tbody>\n",
       "    <tr>\n",
       "      <th>PoolQC</th>\n",
       "      <td>1453</td>\n",
       "      <td>object</td>\n",
       "    </tr>\n",
       "    <tr>\n",
       "      <th>MiscFeature</th>\n",
       "      <td>1406</td>\n",
       "      <td>object</td>\n",
       "    </tr>\n",
       "    <tr>\n",
       "      <th>Alley</th>\n",
       "      <td>1369</td>\n",
       "      <td>object</td>\n",
       "    </tr>\n",
       "    <tr>\n",
       "      <th>Fence</th>\n",
       "      <td>1179</td>\n",
       "      <td>object</td>\n",
       "    </tr>\n",
       "    <tr>\n",
       "      <th>FireplaceQu</th>\n",
       "      <td>690</td>\n",
       "      <td>object</td>\n",
       "    </tr>\n",
       "    <tr>\n",
       "      <th>LotFrontage</th>\n",
       "      <td>259</td>\n",
       "      <td>float64</td>\n",
       "    </tr>\n",
       "    <tr>\n",
       "      <th>GarageType</th>\n",
       "      <td>81</td>\n",
       "      <td>object</td>\n",
       "    </tr>\n",
       "    <tr>\n",
       "      <th>GarageYrBlt</th>\n",
       "      <td>81</td>\n",
       "      <td>float64</td>\n",
       "    </tr>\n",
       "    <tr>\n",
       "      <th>GarageFinish</th>\n",
       "      <td>81</td>\n",
       "      <td>object</td>\n",
       "    </tr>\n",
       "    <tr>\n",
       "      <th>GarageQual</th>\n",
       "      <td>81</td>\n",
       "      <td>object</td>\n",
       "    </tr>\n",
       "    <tr>\n",
       "      <th>GarageCond</th>\n",
       "      <td>81</td>\n",
       "      <td>object</td>\n",
       "    </tr>\n",
       "    <tr>\n",
       "      <th>BsmtExposure</th>\n",
       "      <td>38</td>\n",
       "      <td>object</td>\n",
       "    </tr>\n",
       "    <tr>\n",
       "      <th>BsmtFinType2</th>\n",
       "      <td>38</td>\n",
       "      <td>object</td>\n",
       "    </tr>\n",
       "    <tr>\n",
       "      <th>BsmtFinType1</th>\n",
       "      <td>37</td>\n",
       "      <td>object</td>\n",
       "    </tr>\n",
       "    <tr>\n",
       "      <th>BsmtCond</th>\n",
       "      <td>37</td>\n",
       "      <td>object</td>\n",
       "    </tr>\n",
       "    <tr>\n",
       "      <th>BsmtQual</th>\n",
       "      <td>37</td>\n",
       "      <td>object</td>\n",
       "    </tr>\n",
       "    <tr>\n",
       "      <th>MasVnrArea</th>\n",
       "      <td>8</td>\n",
       "      <td>float64</td>\n",
       "    </tr>\n",
       "    <tr>\n",
       "      <th>MasVnrType</th>\n",
       "      <td>8</td>\n",
       "      <td>object</td>\n",
       "    </tr>\n",
       "    <tr>\n",
       "      <th>Electrical</th>\n",
       "      <td>1</td>\n",
       "      <td>object</td>\n",
       "    </tr>\n",
       "  </tbody>\n",
       "</table>\n",
       "</div>"
      ],
      "text/plain": [
       "              count    dtype\n",
       "PoolQC         1453   object\n",
       "MiscFeature    1406   object\n",
       "Alley          1369   object\n",
       "Fence          1179   object\n",
       "FireplaceQu     690   object\n",
       "LotFrontage     259  float64\n",
       "GarageType       81   object\n",
       "GarageYrBlt      81  float64\n",
       "GarageFinish     81   object\n",
       "GarageQual       81   object\n",
       "GarageCond       81   object\n",
       "BsmtExposure     38   object\n",
       "BsmtFinType2     38   object\n",
       "BsmtFinType1     37   object\n",
       "BsmtCond         37   object\n",
       "BsmtQual         37   object\n",
       "MasVnrArea        8  float64\n",
       "MasVnrType        8   object\n",
       "Electrical        1   object"
      ]
     },
     "execution_count": 47,
     "metadata": {},
     "output_type": "execute_result"
    }
   ],
   "source": [
    "def create_missing_df(df):\n",
    "    cols_missing = df.columns[df.isnull().any()].tolist()\n",
    "    series_missing_count = df[cols_missing].isnull().sum()\n",
    "    series_missing_dtypes = df.dtypes[cols_missing]\n",
    "    df_missing = pd.concat(\n",
    "        [series_missing_count, series_missing_dtypes], \n",
    "        axis=1, \n",
    "        keys=['count', 'dtype'])\n",
    "    return df_missing.sort_values(by=['count'], ascending=False)\n",
    "    \n",
    "train_missing = create_missing_df(train)\n",
    "train_missing"
   ]
  },
  {
   "cell_type": "code",
   "execution_count": 44,
   "metadata": {
    "scrolled": true
   },
   "outputs": [
    {
     "data": {
      "text/html": [
       "<div>\n",
       "<style scoped>\n",
       "    .dataframe tbody tr th:only-of-type {\n",
       "        vertical-align: middle;\n",
       "    }\n",
       "\n",
       "    .dataframe tbody tr th {\n",
       "        vertical-align: top;\n",
       "    }\n",
       "\n",
       "    .dataframe thead th {\n",
       "        text-align: right;\n",
       "    }\n",
       "</style>\n",
       "<table border=\"1\" class=\"dataframe\">\n",
       "  <thead>\n",
       "    <tr style=\"text-align: right;\">\n",
       "      <th></th>\n",
       "      <th>count</th>\n",
       "      <th>dtype</th>\n",
       "    </tr>\n",
       "  </thead>\n",
       "  <tbody>\n",
       "    <tr>\n",
       "      <th>PoolQC</th>\n",
       "      <td>1456</td>\n",
       "      <td>object</td>\n",
       "    </tr>\n",
       "    <tr>\n",
       "      <th>MiscFeature</th>\n",
       "      <td>1408</td>\n",
       "      <td>object</td>\n",
       "    </tr>\n",
       "    <tr>\n",
       "      <th>Alley</th>\n",
       "      <td>1352</td>\n",
       "      <td>object</td>\n",
       "    </tr>\n",
       "    <tr>\n",
       "      <th>Fence</th>\n",
       "      <td>1169</td>\n",
       "      <td>object</td>\n",
       "    </tr>\n",
       "    <tr>\n",
       "      <th>FireplaceQu</th>\n",
       "      <td>730</td>\n",
       "      <td>object</td>\n",
       "    </tr>\n",
       "    <tr>\n",
       "      <th>LotFrontage</th>\n",
       "      <td>227</td>\n",
       "      <td>float64</td>\n",
       "    </tr>\n",
       "    <tr>\n",
       "      <th>GarageCond</th>\n",
       "      <td>78</td>\n",
       "      <td>object</td>\n",
       "    </tr>\n",
       "    <tr>\n",
       "      <th>GarageYrBlt</th>\n",
       "      <td>78</td>\n",
       "      <td>float64</td>\n",
       "    </tr>\n",
       "    <tr>\n",
       "      <th>GarageQual</th>\n",
       "      <td>78</td>\n",
       "      <td>object</td>\n",
       "    </tr>\n",
       "    <tr>\n",
       "      <th>GarageFinish</th>\n",
       "      <td>78</td>\n",
       "      <td>object</td>\n",
       "    </tr>\n",
       "    <tr>\n",
       "      <th>GarageType</th>\n",
       "      <td>76</td>\n",
       "      <td>object</td>\n",
       "    </tr>\n",
       "    <tr>\n",
       "      <th>BsmtCond</th>\n",
       "      <td>45</td>\n",
       "      <td>object</td>\n",
       "    </tr>\n",
       "    <tr>\n",
       "      <th>BsmtExposure</th>\n",
       "      <td>44</td>\n",
       "      <td>object</td>\n",
       "    </tr>\n",
       "    <tr>\n",
       "      <th>BsmtQual</th>\n",
       "      <td>44</td>\n",
       "      <td>object</td>\n",
       "    </tr>\n",
       "    <tr>\n",
       "      <th>BsmtFinType1</th>\n",
       "      <td>42</td>\n",
       "      <td>object</td>\n",
       "    </tr>\n",
       "    <tr>\n",
       "      <th>BsmtFinType2</th>\n",
       "      <td>42</td>\n",
       "      <td>object</td>\n",
       "    </tr>\n",
       "    <tr>\n",
       "      <th>MasVnrType</th>\n",
       "      <td>16</td>\n",
       "      <td>object</td>\n",
       "    </tr>\n",
       "    <tr>\n",
       "      <th>MasVnrArea</th>\n",
       "      <td>15</td>\n",
       "      <td>float64</td>\n",
       "    </tr>\n",
       "    <tr>\n",
       "      <th>MSZoning</th>\n",
       "      <td>4</td>\n",
       "      <td>object</td>\n",
       "    </tr>\n",
       "    <tr>\n",
       "      <th>BsmtFullBath</th>\n",
       "      <td>2</td>\n",
       "      <td>float64</td>\n",
       "    </tr>\n",
       "    <tr>\n",
       "      <th>BsmtHalfBath</th>\n",
       "      <td>2</td>\n",
       "      <td>float64</td>\n",
       "    </tr>\n",
       "    <tr>\n",
       "      <th>Functional</th>\n",
       "      <td>2</td>\n",
       "      <td>object</td>\n",
       "    </tr>\n",
       "    <tr>\n",
       "      <th>Utilities</th>\n",
       "      <td>2</td>\n",
       "      <td>object</td>\n",
       "    </tr>\n",
       "    <tr>\n",
       "      <th>GarageCars</th>\n",
       "      <td>1</td>\n",
       "      <td>float64</td>\n",
       "    </tr>\n",
       "    <tr>\n",
       "      <th>GarageArea</th>\n",
       "      <td>1</td>\n",
       "      <td>float64</td>\n",
       "    </tr>\n",
       "    <tr>\n",
       "      <th>TotalBsmtSF</th>\n",
       "      <td>1</td>\n",
       "      <td>float64</td>\n",
       "    </tr>\n",
       "    <tr>\n",
       "      <th>KitchenQual</th>\n",
       "      <td>1</td>\n",
       "      <td>object</td>\n",
       "    </tr>\n",
       "    <tr>\n",
       "      <th>BsmtUnfSF</th>\n",
       "      <td>1</td>\n",
       "      <td>float64</td>\n",
       "    </tr>\n",
       "    <tr>\n",
       "      <th>BsmtFinSF2</th>\n",
       "      <td>1</td>\n",
       "      <td>float64</td>\n",
       "    </tr>\n",
       "    <tr>\n",
       "      <th>BsmtFinSF1</th>\n",
       "      <td>1</td>\n",
       "      <td>float64</td>\n",
       "    </tr>\n",
       "    <tr>\n",
       "      <th>Exterior2nd</th>\n",
       "      <td>1</td>\n",
       "      <td>object</td>\n",
       "    </tr>\n",
       "    <tr>\n",
       "      <th>Exterior1st</th>\n",
       "      <td>1</td>\n",
       "      <td>object</td>\n",
       "    </tr>\n",
       "    <tr>\n",
       "      <th>SaleType</th>\n",
       "      <td>1</td>\n",
       "      <td>object</td>\n",
       "    </tr>\n",
       "  </tbody>\n",
       "</table>\n",
       "</div>"
      ],
      "text/plain": [
       "              count    dtype\n",
       "PoolQC         1456   object\n",
       "MiscFeature    1408   object\n",
       "Alley          1352   object\n",
       "Fence          1169   object\n",
       "FireplaceQu     730   object\n",
       "LotFrontage     227  float64\n",
       "GarageCond       78   object\n",
       "GarageYrBlt      78  float64\n",
       "GarageQual       78   object\n",
       "GarageFinish     78   object\n",
       "GarageType       76   object\n",
       "BsmtCond         45   object\n",
       "BsmtExposure     44   object\n",
       "BsmtQual         44   object\n",
       "BsmtFinType1     42   object\n",
       "BsmtFinType2     42   object\n",
       "MasVnrType       16   object\n",
       "MasVnrArea       15  float64\n",
       "MSZoning          4   object\n",
       "BsmtFullBath      2  float64\n",
       "BsmtHalfBath      2  float64\n",
       "Functional        2   object\n",
       "Utilities         2   object\n",
       "GarageCars        1  float64\n",
       "GarageArea        1  float64\n",
       "TotalBsmtSF       1  float64\n",
       "KitchenQual       1   object\n",
       "BsmtUnfSF         1  float64\n",
       "BsmtFinSF2        1  float64\n",
       "BsmtFinSF1        1  float64\n",
       "Exterior2nd       1   object\n",
       "Exterior1st       1   object\n",
       "SaleType          1   object"
      ]
     },
     "execution_count": 44,
     "metadata": {},
     "output_type": "execute_result"
    }
   ],
   "source": [
    "cols_missing_test = test.columns[test.isnull().any()].tolist()\n",
    "test_missing_count = test[cols_missing_test].isnull().sum()\n",
    "test_missing_dtypes = test.dtypes[cols_missing_test]\n",
    "test_missing = pd.concat(\n",
    "    [test_missing_count, test_missing_dtypes], \n",
    "    axis=1, \n",
    "    keys=['count', 'dtype'])\n",
    "test_missing.sort_values(by=['count'], ascending=False)"
   ]
  },
  {
   "cell_type": "code",
   "execution_count": 68,
   "metadata": {},
   "outputs": [
    {
     "name": "stdout",
     "output_type": "stream",
     "text": [
      "TA     1326\n",
      "NaN      81\n",
      "Fa       35\n",
      "Gd        9\n",
      "Po        7\n",
      "Ex        2\n",
      "Name: GarageCond, dtype: int64\n",
      "\n",
      "Attchd     870\n",
      "Detchd     387\n",
      "BuiltIn     88\n",
      "NaN         81\n",
      "Basment     19\n",
      "CarPort      9\n",
      "2Types       6\n",
      "Name: GarageType, dtype: int64\n",
      "\n"
     ]
    }
   ],
   "source": [
    "print(train['GarageCond'].value_counts(dropna=False), end=\"\\n\\n\")\n",
    "print(train['GarageType'].value_counts(dropna=False), end=\"\\n\\n\")"
   ]
  },
  {
   "cell_type": "code",
   "execution_count": 33,
   "metadata": {},
   "outputs": [
    {
     "data": {
      "text/plain": [
       "MSZoning         object\n",
       "Utilities        object\n",
       "Exterior1st      object\n",
       "Exterior2nd      object\n",
       "BsmtFinSF1      float64\n",
       "BsmtFinSF2      float64\n",
       "BsmtUnfSF       float64\n",
       "TotalBsmtSF     float64\n",
       "BsmtFullBath    float64\n",
       "BsmtHalfBath    float64\n",
       "KitchenQual      object\n",
       "Functional       object\n",
       "GarageCars      float64\n",
       "GarageArea      float64\n",
       "SaleType         object\n",
       "dtype: object"
      ]
     },
     "execution_count": 33,
     "metadata": {},
     "output_type": "execute_result"
    }
   ],
   "source": [
    "cols_test_not_train = ['MSZoning', 'Utilities', 'Exterior1st', 'Exterior2nd', 'BsmtFinSF1', \n",
    " 'BsmtFinSF2', 'BsmtUnfSF', 'TotalBsmtSF', 'BsmtFullBath', 'BsmtHalfBath', \n",
    " 'KitchenQual', 'Functional', 'GarageCars', 'GarageArea', 'SaleType']\n",
    "\n",
    "test.dtypes[cols_test_not_train]"
   ]
  },
  {
   "cell_type": "code",
   "execution_count": null,
   "metadata": {},
   "outputs": [],
   "source": []
  },
  {
   "cell_type": "markdown",
   "metadata": {},
   "source": [
    "# Imputing"
   ]
  },
  {
   "cell_type": "code",
   "execution_count": 1,
   "metadata": {},
   "outputs": [],
   "source": [
    "import sklearn"
   ]
  },
  {
   "cell_type": "code",
   "execution_count": 3,
   "metadata": {},
   "outputs": [
    {
     "ename": "AttributeError",
     "evalue": "module 'sklearn' has no attribute 'impute'",
     "output_type": "error",
     "traceback": [
      "\u001b[1;31m---------------------------------------------------------------------------\u001b[0m",
      "\u001b[1;31mAttributeError\u001b[0m                            Traceback (most recent call last)",
      "\u001b[1;32m<ipython-input-3-abd128ec8a1a>\u001b[0m in \u001b[0;36m<module>\u001b[1;34m()\u001b[0m\n\u001b[1;32m----> 1\u001b[1;33m \u001b[0msklearn\u001b[0m\u001b[1;33m.\u001b[0m\u001b[0mimpute\u001b[0m\u001b[1;33m.\u001b[0m\u001b[0mSimpleImputer\u001b[0m\u001b[1;33m\u001b[0m\u001b[0m\n\u001b[0m",
      "\u001b[1;31mAttributeError\u001b[0m: module 'sklearn' has no attribute 'impute'"
     ]
    }
   ],
   "source": [
    "sklearn.impute.SimpleImputer"
   ]
  },
  {
   "cell_type": "code",
   "execution_count": 2,
   "metadata": {},
   "outputs": [
    {
     "data": {
      "text/plain": [
       "'0.19.1'"
      ]
     },
     "execution_count": 2,
     "metadata": {},
     "output_type": "execute_result"
    }
   ],
   "source": [
    "sklearn.__version__"
   ]
  },
  {
   "cell_type": "code",
   "execution_count": null,
   "metadata": {},
   "outputs": [],
   "source": []
  }
 ],
 "metadata": {
  "kernelspec": {
   "display_name": "Python 3",
   "language": "python",
   "name": "python3"
  },
  "language_info": {
   "codemirror_mode": {
    "name": "ipython",
    "version": 3
   },
   "file_extension": ".py",
   "mimetype": "text/x-python",
   "name": "python",
   "nbconvert_exporter": "python",
   "pygments_lexer": "ipython3",
   "version": "3.6.5"
  }
 },
 "nbformat": 4,
 "nbformat_minor": 2
}
